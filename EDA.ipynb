{
 "cells": [
  {
   "cell_type": "code",
   "execution_count": 967,
   "metadata": {},
   "outputs": [],
   "source": [
    "import pandas as pd\n",
    "import numpy as np"
   ]
  },
  {
   "cell_type": "code",
   "execution_count": 968,
   "metadata": {},
   "outputs": [
    {
     "data": {
      "text/html": [
       "<div>\n",
       "<style scoped>\n",
       "    .dataframe tbody tr th:only-of-type {\n",
       "        vertical-align: middle;\n",
       "    }\n",
       "\n",
       "    .dataframe tbody tr th {\n",
       "        vertical-align: top;\n",
       "    }\n",
       "\n",
       "    .dataframe thead th {\n",
       "        text-align: right;\n",
       "    }\n",
       "</style>\n",
       "<table border=\"1\" class=\"dataframe\">\n",
       "  <thead>\n",
       "    <tr style=\"text-align: right;\">\n",
       "      <th></th>\n",
       "      <th>Disease</th>\n",
       "      <th>Symptom_0</th>\n",
       "      <th>Symptom_1</th>\n",
       "      <th>Symptom_2</th>\n",
       "      <th>Symptom_3</th>\n",
       "      <th>Symptom_4</th>\n",
       "      <th>Symptom_5</th>\n",
       "      <th>Symptom_6</th>\n",
       "      <th>Symptom_7</th>\n",
       "      <th>Symptom_8</th>\n",
       "      <th>Symptom_9</th>\n",
       "      <th>Symptom_10</th>\n",
       "      <th>Symptom_11</th>\n",
       "      <th>Symptom_12</th>\n",
       "      <th>Symptom_13</th>\n",
       "      <th>Symptom_14</th>\n",
       "      <th>Symptom_15</th>\n",
       "      <th>Symptom_16</th>\n",
       "    </tr>\n",
       "  </thead>\n",
       "  <tbody>\n",
       "    <tr>\n",
       "      <th>0</th>\n",
       "      <td>AIDS</td>\n",
       "      <td>muscle_wasting</td>\n",
       "      <td>patches_in_throat</td>\n",
       "      <td>high_fever</td>\n",
       "      <td>extra_marital_contacts</td>\n",
       "      <td>NaN</td>\n",
       "      <td>NaN</td>\n",
       "      <td>NaN</td>\n",
       "      <td>NaN</td>\n",
       "      <td>NaN</td>\n",
       "      <td>NaN</td>\n",
       "      <td>NaN</td>\n",
       "      <td>NaN</td>\n",
       "      <td>NaN</td>\n",
       "      <td>NaN</td>\n",
       "      <td>NaN</td>\n",
       "      <td>NaN</td>\n",
       "      <td>NaN</td>\n",
       "    </tr>\n",
       "    <tr>\n",
       "      <th>1</th>\n",
       "      <td>AIDS</td>\n",
       "      <td>patches_in_throat</td>\n",
       "      <td>high_fever</td>\n",
       "      <td>extra_marital_contacts</td>\n",
       "      <td>NaN</td>\n",
       "      <td>NaN</td>\n",
       "      <td>NaN</td>\n",
       "      <td>NaN</td>\n",
       "      <td>NaN</td>\n",
       "      <td>NaN</td>\n",
       "      <td>NaN</td>\n",
       "      <td>NaN</td>\n",
       "      <td>NaN</td>\n",
       "      <td>NaN</td>\n",
       "      <td>NaN</td>\n",
       "      <td>NaN</td>\n",
       "      <td>NaN</td>\n",
       "      <td>NaN</td>\n",
       "    </tr>\n",
       "    <tr>\n",
       "      <th>2</th>\n",
       "      <td>AIDS</td>\n",
       "      <td>muscle_wasting</td>\n",
       "      <td>high_fever</td>\n",
       "      <td>extra_marital_contacts</td>\n",
       "      <td>NaN</td>\n",
       "      <td>NaN</td>\n",
       "      <td>NaN</td>\n",
       "      <td>NaN</td>\n",
       "      <td>NaN</td>\n",
       "      <td>NaN</td>\n",
       "      <td>NaN</td>\n",
       "      <td>NaN</td>\n",
       "      <td>NaN</td>\n",
       "      <td>NaN</td>\n",
       "      <td>NaN</td>\n",
       "      <td>NaN</td>\n",
       "      <td>NaN</td>\n",
       "      <td>NaN</td>\n",
       "    </tr>\n",
       "    <tr>\n",
       "      <th>3</th>\n",
       "      <td>AIDS</td>\n",
       "      <td>muscle_wasting</td>\n",
       "      <td>patches_in_throat</td>\n",
       "      <td>extra_marital_contacts</td>\n",
       "      <td>NaN</td>\n",
       "      <td>NaN</td>\n",
       "      <td>NaN</td>\n",
       "      <td>NaN</td>\n",
       "      <td>NaN</td>\n",
       "      <td>NaN</td>\n",
       "      <td>NaN</td>\n",
       "      <td>NaN</td>\n",
       "      <td>NaN</td>\n",
       "      <td>NaN</td>\n",
       "      <td>NaN</td>\n",
       "      <td>NaN</td>\n",
       "      <td>NaN</td>\n",
       "      <td>NaN</td>\n",
       "    </tr>\n",
       "    <tr>\n",
       "      <th>4</th>\n",
       "      <td>AIDS</td>\n",
       "      <td>muscle_wasting</td>\n",
       "      <td>patches_in_throat</td>\n",
       "      <td>high_fever</td>\n",
       "      <td>NaN</td>\n",
       "      <td>NaN</td>\n",
       "      <td>NaN</td>\n",
       "      <td>NaN</td>\n",
       "      <td>NaN</td>\n",
       "      <td>NaN</td>\n",
       "      <td>NaN</td>\n",
       "      <td>NaN</td>\n",
       "      <td>NaN</td>\n",
       "      <td>NaN</td>\n",
       "      <td>NaN</td>\n",
       "      <td>NaN</td>\n",
       "      <td>NaN</td>\n",
       "      <td>NaN</td>\n",
       "    </tr>\n",
       "  </tbody>\n",
       "</table>\n",
       "</div>"
      ],
      "text/plain": [
       "  Disease           Symptom_0           Symptom_1                Symptom_2  \\\n",
       "0    AIDS      muscle_wasting   patches_in_throat               high_fever   \n",
       "1    AIDS   patches_in_throat          high_fever   extra_marital_contacts   \n",
       "2    AIDS      muscle_wasting          high_fever   extra_marital_contacts   \n",
       "3    AIDS      muscle_wasting   patches_in_throat   extra_marital_contacts   \n",
       "4    AIDS      muscle_wasting   patches_in_throat               high_fever   \n",
       "\n",
       "                 Symptom_3 Symptom_4 Symptom_5 Symptom_6 Symptom_7 Symptom_8  \\\n",
       "0   extra_marital_contacts       NaN       NaN       NaN       NaN       NaN   \n",
       "1                      NaN       NaN       NaN       NaN       NaN       NaN   \n",
       "2                      NaN       NaN       NaN       NaN       NaN       NaN   \n",
       "3                      NaN       NaN       NaN       NaN       NaN       NaN   \n",
       "4                      NaN       NaN       NaN       NaN       NaN       NaN   \n",
       "\n",
       "  Symptom_9 Symptom_10 Symptom_11 Symptom_12 Symptom_13 Symptom_14 Symptom_15  \\\n",
       "0       NaN        NaN        NaN        NaN        NaN        NaN        NaN   \n",
       "1       NaN        NaN        NaN        NaN        NaN        NaN        NaN   \n",
       "2       NaN        NaN        NaN        NaN        NaN        NaN        NaN   \n",
       "3       NaN        NaN        NaN        NaN        NaN        NaN        NaN   \n",
       "4       NaN        NaN        NaN        NaN        NaN        NaN        NaN   \n",
       "\n",
       "  Symptom_16  \n",
       "0        NaN  \n",
       "1        NaN  \n",
       "2        NaN  \n",
       "3        NaN  \n",
       "4        NaN  "
      ]
     },
     "execution_count": 968,
     "metadata": {},
     "output_type": "execute_result"
    }
   ],
   "source": [
    "df = pd.read_csv('dataset/dataset.csv')\n",
    "df.head()"
   ]
  },
  {
   "cell_type": "code",
   "execution_count": 969,
   "metadata": {},
   "outputs": [
    {
     "name": "stdout",
     "output_type": "stream",
     "text": [
      "<class 'pandas.core.frame.DataFrame'>\n",
      "RangeIndex: 313 entries, 0 to 312\n",
      "Data columns (total 18 columns):\n",
      " #   Column      Non-Null Count  Dtype \n",
      "---  ------      --------------  ----- \n",
      " 0   Disease     313 non-null    object\n",
      " 1   Symptom_0   313 non-null    object\n",
      " 2   Symptom_1   313 non-null    object\n",
      " 3   Symptom_2   313 non-null    object\n",
      " 4   Symptom_3   281 non-null    object\n",
      " 5   Symptom_4   234 non-null    object\n",
      " 6   Symptom_5   186 non-null    object\n",
      " 7   Symptom_6   158 non-null    object\n",
      " 8   Symptom_7   140 non-null    object\n",
      " 9   Symptom_8   120 non-null    object\n",
      " 10  Symptom_9   110 non-null    object\n",
      " 11  Symptom_10  68 non-null     object\n",
      " 12  Symptom_11  47 non-null     object\n",
      " 13  Symptom_12  30 non-null     object\n",
      " 14  Symptom_13  19 non-null     object\n",
      " 15  Symptom_14  18 non-null     object\n",
      " 16  Symptom_15  10 non-null     object\n",
      " 17  Symptom_16  1 non-null      object\n",
      "dtypes: object(18)\n",
      "memory usage: 44.1+ KB\n"
     ]
    }
   ],
   "source": [
    "df.info()"
   ]
  },
  {
   "cell_type": "code",
   "execution_count": 970,
   "metadata": {},
   "outputs": [
    {
     "data": {
      "text/plain": [
       "Index(['Disease', 'Symptom_0', 'Symptom_1', 'Symptom_2', 'Symptom_3',\n",
       "       'Symptom_4', 'Symptom_5', 'Symptom_6', 'Symptom_7', 'Symptom_8',\n",
       "       'Symptom_9', 'Symptom_10', 'Symptom_11', 'Symptom_12', 'Symptom_13',\n",
       "       'Symptom_14', 'Symptom_15', 'Symptom_16'],\n",
       "      dtype='object')"
      ]
     },
     "execution_count": 970,
     "metadata": {},
     "output_type": "execute_result"
    }
   ],
   "source": [
    "df.columns"
   ]
  },
  {
   "cell_type": "code",
   "execution_count": 971,
   "metadata": {},
   "outputs": [],
   "source": [
    "df = df.drop(columns=['Symptom_5', 'Symptom_6', 'Symptom_7', 'Symptom_8',\n",
    "       'Symptom_9', 'Symptom_10', 'Symptom_11', 'Symptom_12', 'Symptom_13',\n",
    "       'Symptom_14', 'Symptom_15', 'Symptom_16'])"
   ]
  },
  {
   "cell_type": "code",
   "execution_count": 972,
   "metadata": {},
   "outputs": [
    {
     "name": "stdout",
     "output_type": "stream",
     "text": [
      "<class 'pandas.core.frame.DataFrame'>\n",
      "RangeIndex: 313 entries, 0 to 312\n",
      "Data columns (total 6 columns):\n",
      " #   Column     Non-Null Count  Dtype \n",
      "---  ------     --------------  ----- \n",
      " 0   Disease    313 non-null    object\n",
      " 1   Symptom_0  313 non-null    object\n",
      " 2   Symptom_1  313 non-null    object\n",
      " 3   Symptom_2  313 non-null    object\n",
      " 4   Symptom_3  281 non-null    object\n",
      " 5   Symptom_4  234 non-null    object\n",
      "dtypes: object(6)\n",
      "memory usage: 14.8+ KB\n"
     ]
    }
   ],
   "source": [
    "df.info()"
   ]
  },
  {
   "cell_type": "code",
   "execution_count": 973,
   "metadata": {},
   "outputs": [
    {
     "name": "stdout",
     "output_type": "stream",
     "text": [
      "<class 'pandas.core.frame.DataFrame'>\n",
      "Index: 32 entries, 1 to 304\n",
      "Data columns (total 6 columns):\n",
      " #   Column     Non-Null Count  Dtype \n",
      "---  ------     --------------  ----- \n",
      " 0   Disease    32 non-null     object\n",
      " 1   Symptom_0  32 non-null     object\n",
      " 2   Symptom_1  32 non-null     object\n",
      " 3   Symptom_2  32 non-null     object\n",
      " 4   Symptom_3  0 non-null      object\n",
      " 5   Symptom_4  0 non-null      object\n",
      "dtypes: object(6)\n",
      "memory usage: 1.8+ KB\n"
     ]
    }
   ],
   "source": [
    "df1 = df[df['Symptom_3'].isnull()]\n",
    "df1.info()"
   ]
  },
  {
   "cell_type": "code",
   "execution_count": 974,
   "metadata": {},
   "outputs": [
    {
     "data": {
      "text/plain": [
       "Disease\n",
       "AIDS                            4\n",
       "Acne                            4\n",
       "Allergy                         4\n",
       "Fungal infection                4\n",
       "Gastroenteritis                 4\n",
       "Heart attack                    4\n",
       "Paralysis (brain hemorrhage)    4\n",
       "Urinary tract infection         4\n",
       "Name: count, dtype: int64"
      ]
     },
     "execution_count": 974,
     "metadata": {},
     "output_type": "execute_result"
    }
   ],
   "source": [
    "df1['Disease'].value_counts(ascending=False)"
   ]
  },
  {
   "cell_type": "code",
   "execution_count": 975,
   "metadata": {},
   "outputs": [
    {
     "data": {
      "text/plain": [
       "Symptom_3\n",
       " high_fever                      30\n",
       " yellowish_skin                  15\n",
       " lethargy                        15\n",
       " cough                           14\n",
       " dark_urine                      13\n",
       " sweating                        13\n",
       " loss_of_balance                 10\n",
       " weight_loss                     10\n",
       " vomiting                         9\n",
       " headache                         9\n",
       " nausea                           8\n",
       " breathlessness                   7\n",
       " loss_of_appetite                 7\n",
       " blurred_and_distorted_vision     6\n",
       " restlessness                     5\n",
       " yellowing_of_eyes                4\n",
       " passage_of_gases                 4\n",
       " swollen_legs                     4\n",
       " lack_of_concentration            4\n",
       " spotting_urination               4\n",
       " mood_swings                      4\n",
       " yellow_crust_ooze                4\n",
       " excessive_hunger                 4\n",
       " small_dents_in_nails             4\n",
       " irregular_sugar_level            4\n",
       " swelling_joints                  4\n",
       " obesity                          4\n",
       " irritation_in_anus               4\n",
       " fatigue                          4\n",
       " distention_of_abdomen            4\n",
       " family_history                   4\n",
       " painful_walking                  4\n",
       " swelling_of_stomach              4\n",
       " spinning_movements               3\n",
       " abdominal_pain                   3\n",
       " silver_like_dusting              3\n",
       " loss_of_taste                    3\n",
       " hip_joint_pain                   3\n",
       "cough                             3\n",
       " bloody_stool                     2\n",
       " movement_stiffness               2\n",
       " red_sore_around_nose             2\n",
       " burning_micturition              2\n",
       " dizziness                        2\n",
       " continuous_feel_of_urine         1\n",
       " extra_marital_contacts           1\n",
       " altered_sensorium                1\n",
       " chest_pain                       1\n",
       " diarrhoea                        1\n",
       " scurrying                        1\n",
       "high_fever                        1\n",
       " tiredness                        1\n",
       "watering_from_eyes                1\n",
       "dyschromic_patches                1\n",
       "Name: count, dtype: int64"
      ]
     },
     "execution_count": 975,
     "metadata": {},
     "output_type": "execute_result"
    }
   ],
   "source": [
    "df['Symptom_3'].value_counts(ascending=False)"
   ]
  },
  {
   "cell_type": "code",
   "execution_count": 976,
   "metadata": {},
   "outputs": [
    {
     "name": "stdout",
     "output_type": "stream",
     "text": [
      "<class 'pandas.core.frame.DataFrame'>\n",
      "RangeIndex: 313 entries, 0 to 312\n",
      "Data columns (total 6 columns):\n",
      " #   Column     Non-Null Count  Dtype \n",
      "---  ------     --------------  ----- \n",
      " 0   Disease    313 non-null    object\n",
      " 1   Symptom_0  313 non-null    object\n",
      " 2   Symptom_1  313 non-null    object\n",
      " 3   Symptom_2  313 non-null    object\n",
      " 4   Symptom_3  313 non-null    object\n",
      " 5   Symptom_4  234 non-null    object\n",
      "dtypes: object(6)\n",
      "memory usage: 14.8+ KB\n"
     ]
    }
   ],
   "source": [
    "df['Symptom_3']=df['Symptom_3'].fillna(\"high_fever\")\n",
    "df.info()"
   ]
  },
  {
   "cell_type": "code",
   "execution_count": 977,
   "metadata": {},
   "outputs": [
    {
     "data": {
      "text/plain": [
       "Symptom_4\n",
       " headache                          24\n",
       " high_fever                        23\n",
       " nausea                            21\n",
       " dark_urine                        14\n",
       " loss_of_appetite                  13\n",
       " sweating                           9\n",
       " yellowish_skin                     9\n",
       " family_history                     7\n",
       " cough                              6\n",
       " painful_walking                    6\n",
       " history_of_alcohol_consumption     5\n",
       " dizziness                          5\n",
       " diarrhoea                          5\n",
       " unsteadiness                       5\n",
       " internal_itching                   5\n",
       " inflammatory_nails                 5\n",
       " chest_pain                         5\n",
       " stiff_neck                         5\n",
       " blurred_and_distorted_vision       5\n",
       " fatigue                            5\n",
       " abdominal_pain                     5\n",
       " swollen_blood_vessels              5\n",
       " mucoid_sputum                      5\n",
       " excessive_hunger                   5\n",
       " breathlessness                     4\n",
       " irregular_sugar_level              4\n",
       " swollen_legs                       3\n",
       " lethargy                           3\n",
       " distention_of_abdomen              3\n",
       " loss_of_balance                    3\n",
       " swelling_joints                    2\n",
       " passage_of_gases                   2\n",
       " small_dents_in_nails               2\n",
       " yellowing_of_eyes                  2\n",
       " yellow_crust_ooze                  1\n",
       " lack_of_concentration              1\n",
       " spotting_urination                 1\n",
       " irritation_in_anus                 1\n",
       "Name: count, dtype: int64"
      ]
     },
     "execution_count": 977,
     "metadata": {},
     "output_type": "execute_result"
    }
   ],
   "source": [
    "df['Symptom_4'].value_counts(ascending=False)"
   ]
  },
  {
   "cell_type": "code",
   "execution_count": 978,
   "metadata": {},
   "outputs": [
    {
     "name": "stdout",
     "output_type": "stream",
     "text": [
      "<class 'pandas.core.frame.DataFrame'>\n",
      "RangeIndex: 313 entries, 0 to 312\n",
      "Data columns (total 6 columns):\n",
      " #   Column     Non-Null Count  Dtype \n",
      "---  ------     --------------  ----- \n",
      " 0   Disease    313 non-null    object\n",
      " 1   Symptom_0  313 non-null    object\n",
      " 2   Symptom_1  313 non-null    object\n",
      " 3   Symptom_2  313 non-null    object\n",
      " 4   Symptom_3  313 non-null    object\n",
      " 5   Symptom_4  313 non-null    object\n",
      "dtypes: object(6)\n",
      "memory usage: 14.8+ KB\n"
     ]
    }
   ],
   "source": [
    "df['Symptom_4'] = df['Symptom_4'].fillna(\"headache\")\n",
    "df.info()"
   ]
  },
  {
   "cell_type": "code",
   "execution_count": 979,
   "metadata": {},
   "outputs": [
    {
     "data": {
      "text/html": [
       "<div>\n",
       "<style scoped>\n",
       "    .dataframe tbody tr th:only-of-type {\n",
       "        vertical-align: middle;\n",
       "    }\n",
       "\n",
       "    .dataframe tbody tr th {\n",
       "        vertical-align: top;\n",
       "    }\n",
       "\n",
       "    .dataframe thead th {\n",
       "        text-align: right;\n",
       "    }\n",
       "</style>\n",
       "<table border=\"1\" class=\"dataframe\">\n",
       "  <thead>\n",
       "    <tr style=\"text-align: right;\">\n",
       "      <th></th>\n",
       "      <th>Disease</th>\n",
       "      <th>Symptom_0</th>\n",
       "      <th>Symptom_1</th>\n",
       "      <th>Symptom_2</th>\n",
       "      <th>Symptom_3</th>\n",
       "      <th>Symptom_4</th>\n",
       "    </tr>\n",
       "  </thead>\n",
       "  <tbody>\n",
       "    <tr>\n",
       "      <th>0</th>\n",
       "      <td>AIDS</td>\n",
       "      <td>muscle_wasting</td>\n",
       "      <td>patches_in_throat</td>\n",
       "      <td>high_fever</td>\n",
       "      <td>extra_marital_contacts</td>\n",
       "      <td>headache</td>\n",
       "    </tr>\n",
       "    <tr>\n",
       "      <th>1</th>\n",
       "      <td>AIDS</td>\n",
       "      <td>patches_in_throat</td>\n",
       "      <td>high_fever</td>\n",
       "      <td>extra_marital_contacts</td>\n",
       "      <td>high_fever</td>\n",
       "      <td>headache</td>\n",
       "    </tr>\n",
       "    <tr>\n",
       "      <th>2</th>\n",
       "      <td>AIDS</td>\n",
       "      <td>muscle_wasting</td>\n",
       "      <td>high_fever</td>\n",
       "      <td>extra_marital_contacts</td>\n",
       "      <td>high_fever</td>\n",
       "      <td>headache</td>\n",
       "    </tr>\n",
       "    <tr>\n",
       "      <th>3</th>\n",
       "      <td>AIDS</td>\n",
       "      <td>muscle_wasting</td>\n",
       "      <td>patches_in_throat</td>\n",
       "      <td>extra_marital_contacts</td>\n",
       "      <td>high_fever</td>\n",
       "      <td>headache</td>\n",
       "    </tr>\n",
       "    <tr>\n",
       "      <th>4</th>\n",
       "      <td>AIDS</td>\n",
       "      <td>muscle_wasting</td>\n",
       "      <td>patches_in_throat</td>\n",
       "      <td>high_fever</td>\n",
       "      <td>high_fever</td>\n",
       "      <td>headache</td>\n",
       "    </tr>\n",
       "    <tr>\n",
       "      <th>...</th>\n",
       "      <td>...</td>\n",
       "      <td>...</td>\n",
       "      <td>...</td>\n",
       "      <td>...</td>\n",
       "      <td>...</td>\n",
       "      <td>...</td>\n",
       "    </tr>\n",
       "    <tr>\n",
       "      <th>308</th>\n",
       "      <td>Varicose veins</td>\n",
       "      <td>cramps</td>\n",
       "      <td>bruising</td>\n",
       "      <td>obesity</td>\n",
       "      <td>swollen_legs</td>\n",
       "      <td>swollen_blood_vessels</td>\n",
       "    </tr>\n",
       "    <tr>\n",
       "      <th>309</th>\n",
       "      <td>Varicose veins</td>\n",
       "      <td>fatigue</td>\n",
       "      <td>cramps</td>\n",
       "      <td>bruising</td>\n",
       "      <td>obesity</td>\n",
       "      <td>swollen_legs</td>\n",
       "    </tr>\n",
       "    <tr>\n",
       "      <th>310</th>\n",
       "      <td>Varicose veins</td>\n",
       "      <td>fatigue</td>\n",
       "      <td>cramps</td>\n",
       "      <td>bruising</td>\n",
       "      <td>obesity</td>\n",
       "      <td>swollen_legs</td>\n",
       "    </tr>\n",
       "    <tr>\n",
       "      <th>311</th>\n",
       "      <td>Varicose veins</td>\n",
       "      <td>fatigue</td>\n",
       "      <td>cramps</td>\n",
       "      <td>bruising</td>\n",
       "      <td>swollen_legs</td>\n",
       "      <td>swollen_blood_vessels</td>\n",
       "    </tr>\n",
       "    <tr>\n",
       "      <th>312</th>\n",
       "      <td>Varicose veins</td>\n",
       "      <td>fatigue</td>\n",
       "      <td>cramps</td>\n",
       "      <td>bruising</td>\n",
       "      <td>obesity</td>\n",
       "      <td>swollen_legs</td>\n",
       "    </tr>\n",
       "  </tbody>\n",
       "</table>\n",
       "<p>313 rows × 6 columns</p>\n",
       "</div>"
      ],
      "text/plain": [
       "            Disease           Symptom_0           Symptom_1  \\\n",
       "0              AIDS      muscle_wasting   patches_in_throat   \n",
       "1              AIDS   patches_in_throat          high_fever   \n",
       "2              AIDS      muscle_wasting          high_fever   \n",
       "3              AIDS      muscle_wasting   patches_in_throat   \n",
       "4              AIDS      muscle_wasting   patches_in_throat   \n",
       "..              ...                 ...                 ...   \n",
       "308  Varicose veins              cramps            bruising   \n",
       "309  Varicose veins             fatigue              cramps   \n",
       "310  Varicose veins             fatigue              cramps   \n",
       "311  Varicose veins             fatigue              cramps   \n",
       "312  Varicose veins             fatigue              cramps   \n",
       "\n",
       "                   Symptom_2                Symptom_3               Symptom_4  \n",
       "0                 high_fever   extra_marital_contacts                headache  \n",
       "1     extra_marital_contacts               high_fever                headache  \n",
       "2     extra_marital_contacts               high_fever                headache  \n",
       "3     extra_marital_contacts               high_fever                headache  \n",
       "4                 high_fever               high_fever                headache  \n",
       "..                       ...                      ...                     ...  \n",
       "308                  obesity             swollen_legs   swollen_blood_vessels  \n",
       "309                 bruising                  obesity            swollen_legs  \n",
       "310                 bruising                  obesity            swollen_legs  \n",
       "311                 bruising             swollen_legs   swollen_blood_vessels  \n",
       "312                 bruising                  obesity            swollen_legs  \n",
       "\n",
       "[313 rows x 6 columns]"
      ]
     },
     "execution_count": 979,
     "metadata": {},
     "output_type": "execute_result"
    }
   ],
   "source": [
    "df"
   ]
  },
  {
   "cell_type": "code",
   "execution_count": 980,
   "metadata": {},
   "outputs": [
    {
     "data": {
      "text/plain": [
       "42"
      ]
     },
     "execution_count": 980,
     "metadata": {},
     "output_type": "execute_result"
    }
   ],
   "source": [
    "len(df['Disease'].unique())"
   ]
  },
  {
   "cell_type": "code",
   "execution_count": 981,
   "metadata": {},
   "outputs": [
    {
     "data": {
      "text/html": [
       "<div>\n",
       "<style scoped>\n",
       "    .dataframe tbody tr th:only-of-type {\n",
       "        vertical-align: middle;\n",
       "    }\n",
       "\n",
       "    .dataframe tbody tr th {\n",
       "        vertical-align: top;\n",
       "    }\n",
       "\n",
       "    .dataframe thead th {\n",
       "        text-align: right;\n",
       "    }\n",
       "</style>\n",
       "<table border=\"1\" class=\"dataframe\">\n",
       "  <thead>\n",
       "    <tr style=\"text-align: right;\">\n",
       "      <th></th>\n",
       "      <th>Disease</th>\n",
       "      <th>Symptom_precaution_0</th>\n",
       "      <th>Symptom_precaution_1</th>\n",
       "      <th>Symptom_precaution_2</th>\n",
       "      <th>Symptom_precaution_3</th>\n",
       "    </tr>\n",
       "  </thead>\n",
       "  <tbody>\n",
       "    <tr>\n",
       "      <th>0</th>\n",
       "      <td>AIDS</td>\n",
       "      <td>avoid open cuts</td>\n",
       "      <td>wear ppe if possible</td>\n",
       "      <td>consult doctor</td>\n",
       "      <td>follow up</td>\n",
       "    </tr>\n",
       "    <tr>\n",
       "      <th>1</th>\n",
       "      <td>Acne</td>\n",
       "      <td>bath twice</td>\n",
       "      <td>avoid fatty spicy food</td>\n",
       "      <td>drink plenty of water</td>\n",
       "      <td>avoid too many products</td>\n",
       "    </tr>\n",
       "    <tr>\n",
       "      <th>2</th>\n",
       "      <td>Alcoholic hepatitis</td>\n",
       "      <td>stop alcohol consumption</td>\n",
       "      <td>consult doctor</td>\n",
       "      <td>medication</td>\n",
       "      <td>follow up</td>\n",
       "    </tr>\n",
       "    <tr>\n",
       "      <th>3</th>\n",
       "      <td>Allergy</td>\n",
       "      <td>apply calamine</td>\n",
       "      <td>cover area with bandage</td>\n",
       "      <td>NaN</td>\n",
       "      <td>use ice to compress itching</td>\n",
       "    </tr>\n",
       "    <tr>\n",
       "      <th>4</th>\n",
       "      <td>Arthritis</td>\n",
       "      <td>exercise</td>\n",
       "      <td>use hot and cold therapy</td>\n",
       "      <td>try acupuncture</td>\n",
       "      <td>massage</td>\n",
       "    </tr>\n",
       "  </tbody>\n",
       "</table>\n",
       "</div>"
      ],
      "text/plain": [
       "               Disease      Symptom_precaution_0      Symptom_precaution_1  \\\n",
       "0                 AIDS           avoid open cuts      wear ppe if possible   \n",
       "1                 Acne                bath twice    avoid fatty spicy food   \n",
       "2  Alcoholic hepatitis  stop alcohol consumption            consult doctor   \n",
       "3              Allergy            apply calamine   cover area with bandage   \n",
       "4            Arthritis                  exercise  use hot and cold therapy   \n",
       "\n",
       "    Symptom_precaution_2         Symptom_precaution_3  \n",
       "0         consult doctor                    follow up  \n",
       "1  drink plenty of water      avoid too many products  \n",
       "2             medication                    follow up  \n",
       "3                    NaN  use ice to compress itching  \n",
       "4        try acupuncture                      massage  "
      ]
     },
     "execution_count": 981,
     "metadata": {},
     "output_type": "execute_result"
    }
   ],
   "source": [
    "df2 = pd.read_csv('dataset/disease_precaution.csv')\n",
    "df2.head()"
   ]
  },
  {
   "cell_type": "code",
   "execution_count": 982,
   "metadata": {},
   "outputs": [
    {
     "data": {
      "text/plain": [
       "42"
      ]
     },
     "execution_count": 982,
     "metadata": {},
     "output_type": "execute_result"
    }
   ],
   "source": [
    "len(df2['Disease'].unique())"
   ]
  },
  {
   "cell_type": "code",
   "execution_count": 983,
   "metadata": {},
   "outputs": [
    {
     "name": "stdout",
     "output_type": "stream",
     "text": [
      "<class 'pandas.core.frame.DataFrame'>\n",
      "RangeIndex: 42 entries, 0 to 41\n",
      "Data columns (total 5 columns):\n",
      " #   Column                Non-Null Count  Dtype \n",
      "---  ------                --------------  ----- \n",
      " 0   Disease               42 non-null     object\n",
      " 1   Symptom_precaution_0  42 non-null     object\n",
      " 2   Symptom_precaution_1  42 non-null     object\n",
      " 3   Symptom_precaution_2  41 non-null     object\n",
      " 4   Symptom_precaution_3  41 non-null     object\n",
      "dtypes: object(5)\n",
      "memory usage: 1.8+ KB\n"
     ]
    }
   ],
   "source": [
    "df2.info()"
   ]
  },
  {
   "cell_type": "code",
   "execution_count": 984,
   "metadata": {},
   "outputs": [
    {
     "data": {
      "text/plain": [
       "Symptom_precaution_2\n",
       "consult doctor                            6\n",
       "eat healthy                               4\n",
       "medication                                2\n",
       "rest                                      2\n",
       "drink cranberry juice                     1\n",
       "eliminate milk                            1\n",
       "avoid abrupt head movement                1\n",
       "exercise                                  1\n",
       "follow up                                 1\n",
       "use polaroid glasses in sun               1\n",
       "avoid non veg food                        1\n",
       "eat fruits and high fibre food            1\n",
       "remove scabs with wet compressed cloth    1\n",
       "drink sugary drinks                       1\n",
       "use lemon balm                            1\n",
       "reduce stress                             1\n",
       "keep calm                                 1\n",
       "avoid fatty spicy food                    1\n",
       "drink plenty of water                     1\n",
       "maintain healthy weight                   1\n",
       "keep the infected area dry                1\n",
       "stop taking drug                          1\n",
       "warm bath with Epsom salt                 1\n",
       "keep mosquitos away                       1\n",
       "wear mask                                 1\n",
       "avoid cold food                           1\n",
       "take the vaccine                          1\n",
       "take an otc pain reliever                 1\n",
       "get away from the trigger                 1\n",
       "try acupuncture                           1\n",
       "use vein compression                      1\n",
       "Name: count, dtype: int64"
      ]
     },
     "execution_count": 984,
     "metadata": {},
     "output_type": "execute_result"
    }
   ],
   "source": [
    "df2['Symptom_precaution_2'].value_counts(ascending=False)"
   ]
  },
  {
   "cell_type": "code",
   "execution_count": 985,
   "metadata": {},
   "outputs": [
    {
     "name": "stdout",
     "output_type": "stream",
     "text": [
      "<class 'pandas.core.frame.DataFrame'>\n",
      "RangeIndex: 42 entries, 0 to 41\n",
      "Data columns (total 5 columns):\n",
      " #   Column                Non-Null Count  Dtype \n",
      "---  ------                --------------  ----- \n",
      " 0   Disease               42 non-null     object\n",
      " 1   Symptom_precaution_0  42 non-null     object\n",
      " 2   Symptom_precaution_1  42 non-null     object\n",
      " 3   Symptom_precaution_2  42 non-null     object\n",
      " 4   Symptom_precaution_3  41 non-null     object\n",
      "dtypes: object(5)\n",
      "memory usage: 1.8+ KB\n"
     ]
    }
   ],
   "source": [
    "df2['Symptom_precaution_2'] = df2['Symptom_precaution_2'].fillna(\"consult doctor\")\n",
    "df2.info()"
   ]
  },
  {
   "cell_type": "code",
   "execution_count": 986,
   "metadata": {},
   "outputs": [
    {
     "data": {
      "text/plain": [
       "Symptom_precaution_3\n",
       "medication                           7\n",
       "follow up                            6\n",
       "consult doctor                       4\n",
       "salt baths                           2\n",
       "get proper sleep                     2\n",
       "exercise                             1\n",
       "take probiotics                      1\n",
       "rest                                 1\n",
       "limit alcohol                        1\n",
       "relax                                1\n",
       "keep mosquitos out                   1\n",
       "take radioactive iodine treatment    1\n",
       "ease back into eating                1\n",
       "use clean cloths                     1\n",
       "avoid too many products              1\n",
       "consume aloe vera juice              1\n",
       "keep hydrated                        1\n",
       "keep fever in check                  1\n",
       "eat healthy                          1\n",
       "avoid public places                  1\n",
       "consult a doctor                     1\n",
       "seek help                            1\n",
       "massage                              1\n",
       "use ice to compress itching          1\n",
       "don't stand still for long           1\n",
       "Name: count, dtype: int64"
      ]
     },
     "execution_count": 986,
     "metadata": {},
     "output_type": "execute_result"
    }
   ],
   "source": [
    "df2['Symptom_precaution_3'].value_counts(ascending=False)"
   ]
  },
  {
   "cell_type": "code",
   "execution_count": 987,
   "metadata": {},
   "outputs": [
    {
     "name": "stdout",
     "output_type": "stream",
     "text": [
      "<class 'pandas.core.frame.DataFrame'>\n",
      "RangeIndex: 42 entries, 0 to 41\n",
      "Data columns (total 5 columns):\n",
      " #   Column                Non-Null Count  Dtype \n",
      "---  ------                --------------  ----- \n",
      " 0   Disease               42 non-null     object\n",
      " 1   Symptom_precaution_0  42 non-null     object\n",
      " 2   Symptom_precaution_1  42 non-null     object\n",
      " 3   Symptom_precaution_2  42 non-null     object\n",
      " 4   Symptom_precaution_3  42 non-null     object\n",
      "dtypes: object(5)\n",
      "memory usage: 1.8+ KB\n"
     ]
    }
   ],
   "source": [
    "df2['Symptom_precaution_3'] = df2['Symptom_precaution_3'].fillna(\"medication\")\n",
    "df2.info()"
   ]
  },
  {
   "cell_type": "code",
   "execution_count": 988,
   "metadata": {},
   "outputs": [
    {
     "name": "stdout",
     "output_type": "stream",
     "text": [
      "<class 'pandas.core.frame.DataFrame'>\n",
      "RangeIndex: 313 entries, 0 to 312\n",
      "Data columns (total 10 columns):\n",
      " #   Column                Non-Null Count  Dtype \n",
      "---  ------                --------------  ----- \n",
      " 0   Disease               313 non-null    object\n",
      " 1   Symptom_0             313 non-null    object\n",
      " 2   Symptom_1             313 non-null    object\n",
      " 3   Symptom_2             313 non-null    object\n",
      " 4   Symptom_3             313 non-null    object\n",
      " 5   Symptom_4             313 non-null    object\n",
      " 6   Symptom_precaution_0  313 non-null    object\n",
      " 7   Symptom_precaution_1  313 non-null    object\n",
      " 8   Symptom_precaution_2  313 non-null    object\n",
      " 9   Symptom_precaution_3  313 non-null    object\n",
      "dtypes: object(10)\n",
      "memory usage: 24.6+ KB\n"
     ]
    }
   ],
   "source": [
    "merged_df = pd.merge(left=df,right=df2,how=\"left\",left_on=\"Disease\",right_on=\"Disease\")\n",
    "merged_df.info()"
   ]
  },
  {
   "cell_type": "code",
   "execution_count": 989,
   "metadata": {},
   "outputs": [
    {
     "data": {
      "text/html": [
       "<div>\n",
       "<style scoped>\n",
       "    .dataframe tbody tr th:only-of-type {\n",
       "        vertical-align: middle;\n",
       "    }\n",
       "\n",
       "    .dataframe tbody tr th {\n",
       "        vertical-align: top;\n",
       "    }\n",
       "\n",
       "    .dataframe thead th {\n",
       "        text-align: right;\n",
       "    }\n",
       "</style>\n",
       "<table border=\"1\" class=\"dataframe\">\n",
       "  <thead>\n",
       "    <tr style=\"text-align: right;\">\n",
       "      <th></th>\n",
       "      <th>Disease</th>\n",
       "      <th>Symptom_0</th>\n",
       "      <th>Symptom_1</th>\n",
       "      <th>Symptom_2</th>\n",
       "      <th>Symptom_3</th>\n",
       "      <th>Symptom_4</th>\n",
       "      <th>Symptom_precaution_0</th>\n",
       "      <th>Symptom_precaution_1</th>\n",
       "      <th>Symptom_precaution_2</th>\n",
       "      <th>Symptom_precaution_3</th>\n",
       "    </tr>\n",
       "  </thead>\n",
       "  <tbody>\n",
       "    <tr>\n",
       "      <th>0</th>\n",
       "      <td>AIDS</td>\n",
       "      <td>muscle_wasting</td>\n",
       "      <td>patches_in_throat</td>\n",
       "      <td>high_fever</td>\n",
       "      <td>extra_marital_contacts</td>\n",
       "      <td>headache</td>\n",
       "      <td>avoid open cuts</td>\n",
       "      <td>wear ppe if possible</td>\n",
       "      <td>consult doctor</td>\n",
       "      <td>follow up</td>\n",
       "    </tr>\n",
       "    <tr>\n",
       "      <th>1</th>\n",
       "      <td>AIDS</td>\n",
       "      <td>patches_in_throat</td>\n",
       "      <td>high_fever</td>\n",
       "      <td>extra_marital_contacts</td>\n",
       "      <td>high_fever</td>\n",
       "      <td>headache</td>\n",
       "      <td>avoid open cuts</td>\n",
       "      <td>wear ppe if possible</td>\n",
       "      <td>consult doctor</td>\n",
       "      <td>follow up</td>\n",
       "    </tr>\n",
       "    <tr>\n",
       "      <th>2</th>\n",
       "      <td>AIDS</td>\n",
       "      <td>muscle_wasting</td>\n",
       "      <td>high_fever</td>\n",
       "      <td>extra_marital_contacts</td>\n",
       "      <td>high_fever</td>\n",
       "      <td>headache</td>\n",
       "      <td>avoid open cuts</td>\n",
       "      <td>wear ppe if possible</td>\n",
       "      <td>consult doctor</td>\n",
       "      <td>follow up</td>\n",
       "    </tr>\n",
       "    <tr>\n",
       "      <th>3</th>\n",
       "      <td>AIDS</td>\n",
       "      <td>muscle_wasting</td>\n",
       "      <td>patches_in_throat</td>\n",
       "      <td>extra_marital_contacts</td>\n",
       "      <td>high_fever</td>\n",
       "      <td>headache</td>\n",
       "      <td>avoid open cuts</td>\n",
       "      <td>wear ppe if possible</td>\n",
       "      <td>consult doctor</td>\n",
       "      <td>follow up</td>\n",
       "    </tr>\n",
       "    <tr>\n",
       "      <th>4</th>\n",
       "      <td>AIDS</td>\n",
       "      <td>muscle_wasting</td>\n",
       "      <td>patches_in_throat</td>\n",
       "      <td>high_fever</td>\n",
       "      <td>high_fever</td>\n",
       "      <td>headache</td>\n",
       "      <td>avoid open cuts</td>\n",
       "      <td>wear ppe if possible</td>\n",
       "      <td>consult doctor</td>\n",
       "      <td>follow up</td>\n",
       "    </tr>\n",
       "    <tr>\n",
       "      <th>5</th>\n",
       "      <td>Acne</td>\n",
       "      <td>skin_rash</td>\n",
       "      <td>pus_filled_pimples</td>\n",
       "      <td>blackheads</td>\n",
       "      <td>scurrying</td>\n",
       "      <td>headache</td>\n",
       "      <td>bath twice</td>\n",
       "      <td>avoid fatty spicy food</td>\n",
       "      <td>drink plenty of water</td>\n",
       "      <td>avoid too many products</td>\n",
       "    </tr>\n",
       "    <tr>\n",
       "      <th>6</th>\n",
       "      <td>Acne</td>\n",
       "      <td>pus_filled_pimples</td>\n",
       "      <td>blackheads</td>\n",
       "      <td>scurrying</td>\n",
       "      <td>high_fever</td>\n",
       "      <td>headache</td>\n",
       "      <td>bath twice</td>\n",
       "      <td>avoid fatty spicy food</td>\n",
       "      <td>drink plenty of water</td>\n",
       "      <td>avoid too many products</td>\n",
       "    </tr>\n",
       "    <tr>\n",
       "      <th>7</th>\n",
       "      <td>Acne</td>\n",
       "      <td>skin_rash</td>\n",
       "      <td>blackheads</td>\n",
       "      <td>scurrying</td>\n",
       "      <td>high_fever</td>\n",
       "      <td>headache</td>\n",
       "      <td>bath twice</td>\n",
       "      <td>avoid fatty spicy food</td>\n",
       "      <td>drink plenty of water</td>\n",
       "      <td>avoid too many products</td>\n",
       "    </tr>\n",
       "    <tr>\n",
       "      <th>8</th>\n",
       "      <td>Acne</td>\n",
       "      <td>skin_rash</td>\n",
       "      <td>pus_filled_pimples</td>\n",
       "      <td>scurrying</td>\n",
       "      <td>high_fever</td>\n",
       "      <td>headache</td>\n",
       "      <td>bath twice</td>\n",
       "      <td>avoid fatty spicy food</td>\n",
       "      <td>drink plenty of water</td>\n",
       "      <td>avoid too many products</td>\n",
       "    </tr>\n",
       "    <tr>\n",
       "      <th>9</th>\n",
       "      <td>Acne</td>\n",
       "      <td>skin_rash</td>\n",
       "      <td>pus_filled_pimples</td>\n",
       "      <td>blackheads</td>\n",
       "      <td>high_fever</td>\n",
       "      <td>headache</td>\n",
       "      <td>bath twice</td>\n",
       "      <td>avoid fatty spicy food</td>\n",
       "      <td>drink plenty of water</td>\n",
       "      <td>avoid too many products</td>\n",
       "    </tr>\n",
       "    <tr>\n",
       "      <th>10</th>\n",
       "      <td>Alcoholic hepatitis</td>\n",
       "      <td>vomiting</td>\n",
       "      <td>yellowish_skin</td>\n",
       "      <td>swelling_of_stomach</td>\n",
       "      <td>distention_of_abdomen</td>\n",
       "      <td>history_of_alcohol_consumption</td>\n",
       "      <td>stop alcohol consumption</td>\n",
       "      <td>consult doctor</td>\n",
       "      <td>medication</td>\n",
       "      <td>follow up</td>\n",
       "    </tr>\n",
       "    <tr>\n",
       "      <th>11</th>\n",
       "      <td>Alcoholic hepatitis</td>\n",
       "      <td>yellowish_skin</td>\n",
       "      <td>abdominal_pain</td>\n",
       "      <td>swelling_of_stomach</td>\n",
       "      <td>distention_of_abdomen</td>\n",
       "      <td>history_of_alcohol_consumption</td>\n",
       "      <td>stop alcohol consumption</td>\n",
       "      <td>consult doctor</td>\n",
       "      <td>medication</td>\n",
       "      <td>follow up</td>\n",
       "    </tr>\n",
       "    <tr>\n",
       "      <th>12</th>\n",
       "      <td>Alcoholic hepatitis</td>\n",
       "      <td>vomiting</td>\n",
       "      <td>yellowish_skin</td>\n",
       "      <td>abdominal_pain</td>\n",
       "      <td>swelling_of_stomach</td>\n",
       "      <td>distention_of_abdomen</td>\n",
       "      <td>stop alcohol consumption</td>\n",
       "      <td>consult doctor</td>\n",
       "      <td>medication</td>\n",
       "      <td>follow up</td>\n",
       "    </tr>\n",
       "    <tr>\n",
       "      <th>13</th>\n",
       "      <td>Alcoholic hepatitis</td>\n",
       "      <td>vomiting</td>\n",
       "      <td>yellowish_skin</td>\n",
       "      <td>abdominal_pain</td>\n",
       "      <td>swelling_of_stomach</td>\n",
       "      <td>distention_of_abdomen</td>\n",
       "      <td>stop alcohol consumption</td>\n",
       "      <td>consult doctor</td>\n",
       "      <td>medication</td>\n",
       "      <td>follow up</td>\n",
       "    </tr>\n",
       "    <tr>\n",
       "      <th>14</th>\n",
       "      <td>Alcoholic hepatitis</td>\n",
       "      <td>vomiting</td>\n",
       "      <td>yellowish_skin</td>\n",
       "      <td>abdominal_pain</td>\n",
       "      <td>swelling_of_stomach</td>\n",
       "      <td>history_of_alcohol_consumption</td>\n",
       "      <td>stop alcohol consumption</td>\n",
       "      <td>consult doctor</td>\n",
       "      <td>medication</td>\n",
       "      <td>follow up</td>\n",
       "    </tr>\n",
       "    <tr>\n",
       "      <th>15</th>\n",
       "      <td>Alcoholic hepatitis</td>\n",
       "      <td>vomiting</td>\n",
       "      <td>yellowish_skin</td>\n",
       "      <td>abdominal_pain</td>\n",
       "      <td>distention_of_abdomen</td>\n",
       "      <td>history_of_alcohol_consumption</td>\n",
       "      <td>stop alcohol consumption</td>\n",
       "      <td>consult doctor</td>\n",
       "      <td>medication</td>\n",
       "      <td>follow up</td>\n",
       "    </tr>\n",
       "    <tr>\n",
       "      <th>16</th>\n",
       "      <td>Alcoholic hepatitis</td>\n",
       "      <td>vomiting</td>\n",
       "      <td>abdominal_pain</td>\n",
       "      <td>swelling_of_stomach</td>\n",
       "      <td>distention_of_abdomen</td>\n",
       "      <td>history_of_alcohol_consumption</td>\n",
       "      <td>stop alcohol consumption</td>\n",
       "      <td>consult doctor</td>\n",
       "      <td>medication</td>\n",
       "      <td>follow up</td>\n",
       "    </tr>\n",
       "    <tr>\n",
       "      <th>17</th>\n",
       "      <td>Alcoholic hepatitis</td>\n",
       "      <td>vomiting</td>\n",
       "      <td>yellowish_skin</td>\n",
       "      <td>abdominal_pain</td>\n",
       "      <td>swelling_of_stomach</td>\n",
       "      <td>distention_of_abdomen</td>\n",
       "      <td>stop alcohol consumption</td>\n",
       "      <td>consult doctor</td>\n",
       "      <td>medication</td>\n",
       "      <td>follow up</td>\n",
       "    </tr>\n",
       "    <tr>\n",
       "      <th>18</th>\n",
       "      <td>Allergy</td>\n",
       "      <td>shivering</td>\n",
       "      <td>chills</td>\n",
       "      <td>watering_from_eyes</td>\n",
       "      <td>high_fever</td>\n",
       "      <td>headache</td>\n",
       "      <td>apply calamine</td>\n",
       "      <td>cover area with bandage</td>\n",
       "      <td>consult doctor</td>\n",
       "      <td>use ice to compress itching</td>\n",
       "    </tr>\n",
       "    <tr>\n",
       "      <th>19</th>\n",
       "      <td>Allergy</td>\n",
       "      <td>continuous_sneezing</td>\n",
       "      <td>shivering</td>\n",
       "      <td>watering_from_eyes</td>\n",
       "      <td>high_fever</td>\n",
       "      <td>headache</td>\n",
       "      <td>apply calamine</td>\n",
       "      <td>cover area with bandage</td>\n",
       "      <td>consult doctor</td>\n",
       "      <td>use ice to compress itching</td>\n",
       "    </tr>\n",
       "  </tbody>\n",
       "</table>\n",
       "</div>"
      ],
      "text/plain": [
       "                Disease             Symptom_0            Symptom_1  \\\n",
       "0                  AIDS        muscle_wasting    patches_in_throat   \n",
       "1                  AIDS     patches_in_throat           high_fever   \n",
       "2                  AIDS        muscle_wasting           high_fever   \n",
       "3                  AIDS        muscle_wasting    patches_in_throat   \n",
       "4                  AIDS        muscle_wasting    patches_in_throat   \n",
       "5                  Acne             skin_rash   pus_filled_pimples   \n",
       "6                  Acne    pus_filled_pimples           blackheads   \n",
       "7                  Acne             skin_rash           blackheads   \n",
       "8                  Acne             skin_rash   pus_filled_pimples   \n",
       "9                  Acne             skin_rash   pus_filled_pimples   \n",
       "10  Alcoholic hepatitis              vomiting       yellowish_skin   \n",
       "11  Alcoholic hepatitis        yellowish_skin       abdominal_pain   \n",
       "12  Alcoholic hepatitis              vomiting       yellowish_skin   \n",
       "13  Alcoholic hepatitis              vomiting       yellowish_skin   \n",
       "14  Alcoholic hepatitis              vomiting       yellowish_skin   \n",
       "15  Alcoholic hepatitis              vomiting       yellowish_skin   \n",
       "16  Alcoholic hepatitis              vomiting       abdominal_pain   \n",
       "17  Alcoholic hepatitis              vomiting       yellowish_skin   \n",
       "18              Allergy             shivering               chills   \n",
       "19              Allergy   continuous_sneezing            shivering   \n",
       "\n",
       "                  Symptom_2                Symptom_3  \\\n",
       "0                high_fever   extra_marital_contacts   \n",
       "1    extra_marital_contacts               high_fever   \n",
       "2    extra_marital_contacts               high_fever   \n",
       "3    extra_marital_contacts               high_fever   \n",
       "4                high_fever               high_fever   \n",
       "5                blackheads                scurrying   \n",
       "6                 scurrying               high_fever   \n",
       "7                 scurrying               high_fever   \n",
       "8                 scurrying               high_fever   \n",
       "9                blackheads               high_fever   \n",
       "10      swelling_of_stomach    distention_of_abdomen   \n",
       "11      swelling_of_stomach    distention_of_abdomen   \n",
       "12           abdominal_pain      swelling_of_stomach   \n",
       "13           abdominal_pain      swelling_of_stomach   \n",
       "14           abdominal_pain      swelling_of_stomach   \n",
       "15           abdominal_pain    distention_of_abdomen   \n",
       "16      swelling_of_stomach    distention_of_abdomen   \n",
       "17           abdominal_pain      swelling_of_stomach   \n",
       "18       watering_from_eyes               high_fever   \n",
       "19       watering_from_eyes               high_fever   \n",
       "\n",
       "                          Symptom_4      Symptom_precaution_0  \\\n",
       "0                          headache           avoid open cuts   \n",
       "1                          headache           avoid open cuts   \n",
       "2                          headache           avoid open cuts   \n",
       "3                          headache           avoid open cuts   \n",
       "4                          headache           avoid open cuts   \n",
       "5                          headache                bath twice   \n",
       "6                          headache                bath twice   \n",
       "7                          headache                bath twice   \n",
       "8                          headache                bath twice   \n",
       "9                          headache                bath twice   \n",
       "10   history_of_alcohol_consumption  stop alcohol consumption   \n",
       "11   history_of_alcohol_consumption  stop alcohol consumption   \n",
       "12            distention_of_abdomen  stop alcohol consumption   \n",
       "13            distention_of_abdomen  stop alcohol consumption   \n",
       "14   history_of_alcohol_consumption  stop alcohol consumption   \n",
       "15   history_of_alcohol_consumption  stop alcohol consumption   \n",
       "16   history_of_alcohol_consumption  stop alcohol consumption   \n",
       "17            distention_of_abdomen  stop alcohol consumption   \n",
       "18                         headache            apply calamine   \n",
       "19                         headache            apply calamine   \n",
       "\n",
       "       Symptom_precaution_1   Symptom_precaution_2  \\\n",
       "0      wear ppe if possible         consult doctor   \n",
       "1      wear ppe if possible         consult doctor   \n",
       "2      wear ppe if possible         consult doctor   \n",
       "3      wear ppe if possible         consult doctor   \n",
       "4      wear ppe if possible         consult doctor   \n",
       "5    avoid fatty spicy food  drink plenty of water   \n",
       "6    avoid fatty spicy food  drink plenty of water   \n",
       "7    avoid fatty spicy food  drink plenty of water   \n",
       "8    avoid fatty spicy food  drink plenty of water   \n",
       "9    avoid fatty spicy food  drink plenty of water   \n",
       "10           consult doctor             medication   \n",
       "11           consult doctor             medication   \n",
       "12           consult doctor             medication   \n",
       "13           consult doctor             medication   \n",
       "14           consult doctor             medication   \n",
       "15           consult doctor             medication   \n",
       "16           consult doctor             medication   \n",
       "17           consult doctor             medication   \n",
       "18  cover area with bandage         consult doctor   \n",
       "19  cover area with bandage         consult doctor   \n",
       "\n",
       "           Symptom_precaution_3  \n",
       "0                     follow up  \n",
       "1                     follow up  \n",
       "2                     follow up  \n",
       "3                     follow up  \n",
       "4                     follow up  \n",
       "5       avoid too many products  \n",
       "6       avoid too many products  \n",
       "7       avoid too many products  \n",
       "8       avoid too many products  \n",
       "9       avoid too many products  \n",
       "10                    follow up  \n",
       "11                    follow up  \n",
       "12                    follow up  \n",
       "13                    follow up  \n",
       "14                    follow up  \n",
       "15                    follow up  \n",
       "16                    follow up  \n",
       "17                    follow up  \n",
       "18  use ice to compress itching  \n",
       "19  use ice to compress itching  "
      ]
     },
     "execution_count": 989,
     "metadata": {},
     "output_type": "execute_result"
    }
   ],
   "source": [
    "merged_df.head(20)"
   ]
  },
  {
   "cell_type": "code",
   "execution_count": 990,
   "metadata": {},
   "outputs": [
    {
     "name": "stdout",
     "output_type": "stream",
     "text": [
      "<class 'pandas.core.frame.DataFrame'>\n",
      "RangeIndex: 134 entries, 0 to 133\n",
      "Data columns (total 2 columns):\n",
      " #   Column            Non-Null Count  Dtype \n",
      "---  ------            --------------  ----- \n",
      " 0   Symptom           134 non-null    object\n",
      " 1   Symptom_severity  134 non-null    int64 \n",
      "dtypes: int64(1), object(1)\n",
      "memory usage: 2.2+ KB\n"
     ]
    }
   ],
   "source": [
    "df3 = pd.read_csv('dataset/symptom_severity.csv')\n",
    "df3.info()"
   ]
  },
  {
   "cell_type": "code",
   "execution_count": 991,
   "metadata": {},
   "outputs": [
    {
     "data": {
      "text/html": [
       "<div>\n",
       "<style scoped>\n",
       "    .dataframe tbody tr th:only-of-type {\n",
       "        vertical-align: middle;\n",
       "    }\n",
       "\n",
       "    .dataframe tbody tr th {\n",
       "        vertical-align: top;\n",
       "    }\n",
       "\n",
       "    .dataframe thead th {\n",
       "        text-align: right;\n",
       "    }\n",
       "</style>\n",
       "<table border=\"1\" class=\"dataframe\">\n",
       "  <thead>\n",
       "    <tr style=\"text-align: right;\">\n",
       "      <th></th>\n",
       "      <th>Symptom</th>\n",
       "      <th>Symptom_severity</th>\n",
       "    </tr>\n",
       "  </thead>\n",
       "  <tbody>\n",
       "    <tr>\n",
       "      <th>0</th>\n",
       "      <td>abdominal_pain</td>\n",
       "      <td>4</td>\n",
       "    </tr>\n",
       "    <tr>\n",
       "      <th>1</th>\n",
       "      <td>abnormal_menstruation</td>\n",
       "      <td>6</td>\n",
       "    </tr>\n",
       "    <tr>\n",
       "      <th>2</th>\n",
       "      <td>acidity</td>\n",
       "      <td>3</td>\n",
       "    </tr>\n",
       "    <tr>\n",
       "      <th>3</th>\n",
       "      <td>acute_liver_failure</td>\n",
       "      <td>6</td>\n",
       "    </tr>\n",
       "    <tr>\n",
       "      <th>4</th>\n",
       "      <td>altered_sensorium</td>\n",
       "      <td>2</td>\n",
       "    </tr>\n",
       "    <tr>\n",
       "      <th>5</th>\n",
       "      <td>anxiety</td>\n",
       "      <td>4</td>\n",
       "    </tr>\n",
       "    <tr>\n",
       "      <th>6</th>\n",
       "      <td>back_pain</td>\n",
       "      <td>3</td>\n",
       "    </tr>\n",
       "    <tr>\n",
       "      <th>7</th>\n",
       "      <td>belly_pain</td>\n",
       "      <td>4</td>\n",
       "    </tr>\n",
       "    <tr>\n",
       "      <th>8</th>\n",
       "      <td>blackheads</td>\n",
       "      <td>2</td>\n",
       "    </tr>\n",
       "    <tr>\n",
       "      <th>9</th>\n",
       "      <td>bladder_discomfort</td>\n",
       "      <td>4</td>\n",
       "    </tr>\n",
       "    <tr>\n",
       "      <th>10</th>\n",
       "      <td>blister</td>\n",
       "      <td>4</td>\n",
       "    </tr>\n",
       "    <tr>\n",
       "      <th>11</th>\n",
       "      <td>blood_in_sputum</td>\n",
       "      <td>5</td>\n",
       "    </tr>\n",
       "    <tr>\n",
       "      <th>12</th>\n",
       "      <td>bloody_stool</td>\n",
       "      <td>5</td>\n",
       "    </tr>\n",
       "    <tr>\n",
       "      <th>13</th>\n",
       "      <td>blurred_and_distorted_vision</td>\n",
       "      <td>5</td>\n",
       "    </tr>\n",
       "    <tr>\n",
       "      <th>14</th>\n",
       "      <td>breathlessness</td>\n",
       "      <td>4</td>\n",
       "    </tr>\n",
       "    <tr>\n",
       "      <th>15</th>\n",
       "      <td>brittle_nails</td>\n",
       "      <td>5</td>\n",
       "    </tr>\n",
       "    <tr>\n",
       "      <th>16</th>\n",
       "      <td>bruising</td>\n",
       "      <td>4</td>\n",
       "    </tr>\n",
       "    <tr>\n",
       "      <th>17</th>\n",
       "      <td>burning_micturition</td>\n",
       "      <td>6</td>\n",
       "    </tr>\n",
       "    <tr>\n",
       "      <th>18</th>\n",
       "      <td>chest_pain</td>\n",
       "      <td>7</td>\n",
       "    </tr>\n",
       "    <tr>\n",
       "      <th>19</th>\n",
       "      <td>chills</td>\n",
       "      <td>3</td>\n",
       "    </tr>\n",
       "  </tbody>\n",
       "</table>\n",
       "</div>"
      ],
      "text/plain": [
       "                         Symptom  Symptom_severity\n",
       "0                 abdominal_pain                 4\n",
       "1          abnormal_menstruation                 6\n",
       "2                        acidity                 3\n",
       "3            acute_liver_failure                 6\n",
       "4              altered_sensorium                 2\n",
       "5                        anxiety                 4\n",
       "6                      back_pain                 3\n",
       "7                     belly_pain                 4\n",
       "8                     blackheads                 2\n",
       "9             bladder_discomfort                 4\n",
       "10                       blister                 4\n",
       "11               blood_in_sputum                 5\n",
       "12                  bloody_stool                 5\n",
       "13  blurred_and_distorted_vision                 5\n",
       "14                breathlessness                 4\n",
       "15                 brittle_nails                 5\n",
       "16                      bruising                 4\n",
       "17           burning_micturition                 6\n",
       "18                    chest_pain                 7\n",
       "19                        chills                 3"
      ]
     },
     "execution_count": 991,
     "metadata": {},
     "output_type": "execute_result"
    }
   ],
   "source": [
    "df3.head(20)"
   ]
  },
  {
   "cell_type": "code",
   "execution_count": 992,
   "metadata": {},
   "outputs": [
    {
     "data": {
      "text/html": [
       "<div>\n",
       "<style scoped>\n",
       "    .dataframe tbody tr th:only-of-type {\n",
       "        vertical-align: middle;\n",
       "    }\n",
       "\n",
       "    .dataframe tbody tr th {\n",
       "        vertical-align: top;\n",
       "    }\n",
       "\n",
       "    .dataframe thead th {\n",
       "        text-align: right;\n",
       "    }\n",
       "</style>\n",
       "<table border=\"1\" class=\"dataframe\">\n",
       "  <thead>\n",
       "    <tr style=\"text-align: right;\">\n",
       "      <th></th>\n",
       "      <th>Disease</th>\n",
       "      <th>Symptom_Description</th>\n",
       "    </tr>\n",
       "  </thead>\n",
       "  <tbody>\n",
       "    <tr>\n",
       "      <th>0</th>\n",
       "      <td>AIDS</td>\n",
       "      <td>Acquired immunodeficiency syndrome (AIDS) is a...</td>\n",
       "    </tr>\n",
       "    <tr>\n",
       "      <th>1</th>\n",
       "      <td>Acne</td>\n",
       "      <td>Acne vulgaris is the formation of comedones, p...</td>\n",
       "    </tr>\n",
       "    <tr>\n",
       "      <th>2</th>\n",
       "      <td>Alcoholic hepatitis</td>\n",
       "      <td>Alcoholic hepatitis is a diseased, inflammator...</td>\n",
       "    </tr>\n",
       "    <tr>\n",
       "      <th>3</th>\n",
       "      <td>Allergy</td>\n",
       "      <td>An allergy is an immune system response to a f...</td>\n",
       "    </tr>\n",
       "    <tr>\n",
       "      <th>4</th>\n",
       "      <td>Arthritis</td>\n",
       "      <td>Arthritis is the swelling and tenderness of on...</td>\n",
       "    </tr>\n",
       "    <tr>\n",
       "      <th>5</th>\n",
       "      <td>Bronchial Asthma</td>\n",
       "      <td>Bronchial asthma is a medical condition which ...</td>\n",
       "    </tr>\n",
       "    <tr>\n",
       "      <th>6</th>\n",
       "      <td>Cervical spondylosis</td>\n",
       "      <td>Cervical spondylosis is a general term for age...</td>\n",
       "    </tr>\n",
       "    <tr>\n",
       "      <th>7</th>\n",
       "      <td>Chicken pox</td>\n",
       "      <td>Chickenpox is a highly contagious disease caus...</td>\n",
       "    </tr>\n",
       "    <tr>\n",
       "      <th>8</th>\n",
       "      <td>Chronic cholestasis</td>\n",
       "      <td>Chronic cholestatic diseases, whether occurrin...</td>\n",
       "    </tr>\n",
       "    <tr>\n",
       "      <th>9</th>\n",
       "      <td>Common Cold</td>\n",
       "      <td>The common cold is a viral infection of your n...</td>\n",
       "    </tr>\n",
       "  </tbody>\n",
       "</table>\n",
       "</div>"
      ],
      "text/plain": [
       "                Disease                                Symptom_Description\n",
       "0                  AIDS  Acquired immunodeficiency syndrome (AIDS) is a...\n",
       "1                  Acne  Acne vulgaris is the formation of comedones, p...\n",
       "2   Alcoholic hepatitis  Alcoholic hepatitis is a diseased, inflammator...\n",
       "3               Allergy  An allergy is an immune system response to a f...\n",
       "4             Arthritis  Arthritis is the swelling and tenderness of on...\n",
       "5      Bronchial Asthma  Bronchial asthma is a medical condition which ...\n",
       "6  Cervical spondylosis  Cervical spondylosis is a general term for age...\n",
       "7           Chicken pox  Chickenpox is a highly contagious disease caus...\n",
       "8   Chronic cholestasis  Chronic cholestatic diseases, whether occurrin...\n",
       "9           Common Cold  The common cold is a viral infection of your n..."
      ]
     },
     "execution_count": 992,
     "metadata": {},
     "output_type": "execute_result"
    }
   ],
   "source": [
    "df4 = pd.read_csv('dataset/disease_description.csv')\n",
    "df4.head(10)"
   ]
  },
  {
   "cell_type": "code",
   "execution_count": 993,
   "metadata": {},
   "outputs": [],
   "source": [
    "df4['Disease'] = df4['Disease'].str.rstrip()\n",
    "merged_df['Disease'] = merged_df['Disease'].str.rstrip()"
   ]
  },
  {
   "cell_type": "code",
   "execution_count": 994,
   "metadata": {},
   "outputs": [
    {
     "data": {
      "text/plain": [
       "42"
      ]
     },
     "execution_count": 994,
     "metadata": {},
     "output_type": "execute_result"
    }
   ],
   "source": [
    "len(df4['Disease'].unique())"
   ]
  },
  {
   "cell_type": "code",
   "execution_count": 995,
   "metadata": {},
   "outputs": [
    {
     "data": {
      "text/plain": [
       "42"
      ]
     },
     "execution_count": 995,
     "metadata": {},
     "output_type": "execute_result"
    }
   ],
   "source": [
    "len(merged_df['Disease'].unique())"
   ]
  },
  {
   "cell_type": "code",
   "execution_count": 996,
   "metadata": {},
   "outputs": [
    {
     "data": {
      "text/plain": [
       "array([ True,  True,  True,  True,  True,  True,  True,  True,  True,\n",
       "        True,  True,  True,  True,  True,  True,  True,  True,  True,\n",
       "        True,  True,  True,  True,  True,  True,  True,  True,  True,\n",
       "        True,  True,  True,  True,  True,  True, False,  True,  True,\n",
       "        True,  True,  True,  True,  True,  True])"
      ]
     },
     "execution_count": 996,
     "metadata": {},
     "output_type": "execute_result"
    }
   ],
   "source": [
    "a = np.array(merged_df['Disease'].unique())\n",
    "a.sort()\n",
    "b = np.array(df4['Disease'].unique())\n",
    "b.sort()\n",
    "a==b"
   ]
  },
  {
   "cell_type": "code",
   "execution_count": 997,
   "metadata": {},
   "outputs": [
    {
     "name": "stdout",
     "output_type": "stream",
     "text": [
      "<class 'pandas.core.frame.DataFrame'>\n",
      "RangeIndex: 313 entries, 0 to 312\n",
      "Data columns (total 11 columns):\n",
      " #   Column                Non-Null Count  Dtype \n",
      "---  ------                --------------  ----- \n",
      " 0   Disease               313 non-null    object\n",
      " 1   Symptom_0             313 non-null    object\n",
      " 2   Symptom_1             313 non-null    object\n",
      " 3   Symptom_2             313 non-null    object\n",
      " 4   Symptom_3             313 non-null    object\n",
      " 5   Symptom_4             313 non-null    object\n",
      " 6   Symptom_precaution_0  313 non-null    object\n",
      " 7   Symptom_precaution_1  313 non-null    object\n",
      " 8   Symptom_precaution_2  313 non-null    object\n",
      " 9   Symptom_precaution_3  313 non-null    object\n",
      " 10  Symptom_Description   308 non-null    object\n",
      "dtypes: object(11)\n",
      "memory usage: 27.0+ KB\n"
     ]
    }
   ],
   "source": [
    "merged_df = pd.merge(left=merged_df,right=df4,how=\"left\",left_on=\"Disease\",right_on=\"Disease\")\n",
    "merged_df.info()"
   ]
  },
  {
   "cell_type": "code",
   "execution_count": 998,
   "metadata": {},
   "outputs": [
    {
     "data": {
      "text/html": [
       "<div>\n",
       "<style scoped>\n",
       "    .dataframe tbody tr th:only-of-type {\n",
       "        vertical-align: middle;\n",
       "    }\n",
       "\n",
       "    .dataframe tbody tr th {\n",
       "        vertical-align: top;\n",
       "    }\n",
       "\n",
       "    .dataframe thead th {\n",
       "        text-align: right;\n",
       "    }\n",
       "</style>\n",
       "<table border=\"1\" class=\"dataframe\">\n",
       "  <thead>\n",
       "    <tr style=\"text-align: right;\">\n",
       "      <th></th>\n",
       "      <th>Disease</th>\n",
       "      <th>Symptom_Description</th>\n",
       "    </tr>\n",
       "  </thead>\n",
       "  <tbody>\n",
       "    <tr>\n",
       "      <th>0</th>\n",
       "      <td>AIDS</td>\n",
       "      <td>Acquired immunodeficiency syndrome (AIDS) is a...</td>\n",
       "    </tr>\n",
       "    <tr>\n",
       "      <th>1</th>\n",
       "      <td>AIDS</td>\n",
       "      <td>Acquired immunodeficiency syndrome (AIDS) is a...</td>\n",
       "    </tr>\n",
       "    <tr>\n",
       "      <th>2</th>\n",
       "      <td>AIDS</td>\n",
       "      <td>Acquired immunodeficiency syndrome (AIDS) is a...</td>\n",
       "    </tr>\n",
       "    <tr>\n",
       "      <th>3</th>\n",
       "      <td>AIDS</td>\n",
       "      <td>Acquired immunodeficiency syndrome (AIDS) is a...</td>\n",
       "    </tr>\n",
       "    <tr>\n",
       "      <th>4</th>\n",
       "      <td>AIDS</td>\n",
       "      <td>Acquired immunodeficiency syndrome (AIDS) is a...</td>\n",
       "    </tr>\n",
       "    <tr>\n",
       "      <th>...</th>\n",
       "      <td>...</td>\n",
       "      <td>...</td>\n",
       "    </tr>\n",
       "    <tr>\n",
       "      <th>308</th>\n",
       "      <td>Varicose veins</td>\n",
       "      <td>A vein that has enlarged and twisted, often ap...</td>\n",
       "    </tr>\n",
       "    <tr>\n",
       "      <th>309</th>\n",
       "      <td>Varicose veins</td>\n",
       "      <td>A vein that has enlarged and twisted, often ap...</td>\n",
       "    </tr>\n",
       "    <tr>\n",
       "      <th>310</th>\n",
       "      <td>Varicose veins</td>\n",
       "      <td>A vein that has enlarged and twisted, often ap...</td>\n",
       "    </tr>\n",
       "    <tr>\n",
       "      <th>311</th>\n",
       "      <td>Varicose veins</td>\n",
       "      <td>A vein that has enlarged and twisted, often ap...</td>\n",
       "    </tr>\n",
       "    <tr>\n",
       "      <th>312</th>\n",
       "      <td>Varicose veins</td>\n",
       "      <td>A vein that has enlarged and twisted, often ap...</td>\n",
       "    </tr>\n",
       "  </tbody>\n",
       "</table>\n",
       "<p>313 rows × 2 columns</p>\n",
       "</div>"
      ],
      "text/plain": [
       "            Disease                                Symptom_Description\n",
       "0              AIDS  Acquired immunodeficiency syndrome (AIDS) is a...\n",
       "1              AIDS  Acquired immunodeficiency syndrome (AIDS) is a...\n",
       "2              AIDS  Acquired immunodeficiency syndrome (AIDS) is a...\n",
       "3              AIDS  Acquired immunodeficiency syndrome (AIDS) is a...\n",
       "4              AIDS  Acquired immunodeficiency syndrome (AIDS) is a...\n",
       "..              ...                                                ...\n",
       "308  Varicose veins  A vein that has enlarged and twisted, often ap...\n",
       "309  Varicose veins  A vein that has enlarged and twisted, often ap...\n",
       "310  Varicose veins  A vein that has enlarged and twisted, often ap...\n",
       "311  Varicose veins  A vein that has enlarged and twisted, often ap...\n",
       "312  Varicose veins  A vein that has enlarged and twisted, often ap...\n",
       "\n",
       "[313 rows x 2 columns]"
      ]
     },
     "execution_count": 998,
     "metadata": {},
     "output_type": "execute_result"
    }
   ],
   "source": [
    "merged_df[['Disease','Symptom_Description']]"
   ]
  },
  {
   "cell_type": "code",
   "execution_count": 999,
   "metadata": {},
   "outputs": [
    {
     "name": "stdout",
     "output_type": "stream",
     "text": [
      "<class 'pandas.core.frame.DataFrame'>\n",
      "Index: 5 entries, 247 to 251\n",
      "Data columns (total 11 columns):\n",
      " #   Column                Non-Null Count  Dtype \n",
      "---  ------                --------------  ----- \n",
      " 0   Disease               5 non-null      object\n",
      " 1   Symptom_0             5 non-null      object\n",
      " 2   Symptom_1             5 non-null      object\n",
      " 3   Symptom_2             5 non-null      object\n",
      " 4   Symptom_3             5 non-null      object\n",
      " 5   Symptom_4             5 non-null      object\n",
      " 6   Symptom_precaution_0  5 non-null      object\n",
      " 7   Symptom_precaution_1  5 non-null      object\n",
      " 8   Symptom_precaution_2  5 non-null      object\n",
      " 9   Symptom_precaution_3  5 non-null      object\n",
      " 10  Symptom_Description   0 non-null      object\n",
      "dtypes: object(11)\n",
      "memory usage: 480.0+ bytes\n"
     ]
    }
   ],
   "source": [
    "df5 = merged_df[merged_df['Symptom_Description'].isnull()]\n",
    "df5.info()"
   ]
  },
  {
   "cell_type": "code",
   "execution_count": 1000,
   "metadata": {},
   "outputs": [
    {
     "data": {
      "text/plain": [
       "array(['Paralysis (brain hemorrhage)'], dtype=object)"
      ]
     },
     "execution_count": 1000,
     "metadata": {},
     "output_type": "execute_result"
    }
   ],
   "source": [
    "df5['Disease'].unique()"
   ]
  },
  {
   "cell_type": "code",
   "execution_count": 1001,
   "metadata": {},
   "outputs": [
    {
     "data": {
      "text/html": [
       "<div>\n",
       "<style scoped>\n",
       "    .dataframe tbody tr th:only-of-type {\n",
       "        vertical-align: middle;\n",
       "    }\n",
       "\n",
       "    .dataframe tbody tr th {\n",
       "        vertical-align: top;\n",
       "    }\n",
       "\n",
       "    .dataframe thead th {\n",
       "        text-align: right;\n",
       "    }\n",
       "</style>\n",
       "<table border=\"1\" class=\"dataframe\">\n",
       "  <thead>\n",
       "    <tr style=\"text-align: right;\">\n",
       "      <th></th>\n",
       "      <th>Disease</th>\n",
       "      <th>Symptom_0</th>\n",
       "      <th>Symptom_1</th>\n",
       "      <th>Symptom_2</th>\n",
       "      <th>Symptom_3</th>\n",
       "      <th>Symptom_4</th>\n",
       "      <th>Symptom_precaution_0</th>\n",
       "      <th>Symptom_precaution_1</th>\n",
       "      <th>Symptom_precaution_2</th>\n",
       "      <th>Symptom_precaution_3</th>\n",
       "      <th>Symptom_Description</th>\n",
       "    </tr>\n",
       "  </thead>\n",
       "  <tbody>\n",
       "    <tr>\n",
       "      <th>0</th>\n",
       "      <td>AIDS</td>\n",
       "      <td>muscle_wasting</td>\n",
       "      <td>patches_in_throat</td>\n",
       "      <td>high_fever</td>\n",
       "      <td>extra_marital_contacts</td>\n",
       "      <td>headache</td>\n",
       "      <td>avoid open cuts</td>\n",
       "      <td>wear ppe if possible</td>\n",
       "      <td>consult doctor</td>\n",
       "      <td>follow up</td>\n",
       "      <td>Acquired immunodeficiency syndrome (AIDS) is a...</td>\n",
       "    </tr>\n",
       "    <tr>\n",
       "      <th>1</th>\n",
       "      <td>AIDS</td>\n",
       "      <td>patches_in_throat</td>\n",
       "      <td>high_fever</td>\n",
       "      <td>extra_marital_contacts</td>\n",
       "      <td>high_fever</td>\n",
       "      <td>headache</td>\n",
       "      <td>avoid open cuts</td>\n",
       "      <td>wear ppe if possible</td>\n",
       "      <td>consult doctor</td>\n",
       "      <td>follow up</td>\n",
       "      <td>Acquired immunodeficiency syndrome (AIDS) is a...</td>\n",
       "    </tr>\n",
       "    <tr>\n",
       "      <th>2</th>\n",
       "      <td>AIDS</td>\n",
       "      <td>muscle_wasting</td>\n",
       "      <td>high_fever</td>\n",
       "      <td>extra_marital_contacts</td>\n",
       "      <td>high_fever</td>\n",
       "      <td>headache</td>\n",
       "      <td>avoid open cuts</td>\n",
       "      <td>wear ppe if possible</td>\n",
       "      <td>consult doctor</td>\n",
       "      <td>follow up</td>\n",
       "      <td>Acquired immunodeficiency syndrome (AIDS) is a...</td>\n",
       "    </tr>\n",
       "    <tr>\n",
       "      <th>3</th>\n",
       "      <td>AIDS</td>\n",
       "      <td>muscle_wasting</td>\n",
       "      <td>patches_in_throat</td>\n",
       "      <td>extra_marital_contacts</td>\n",
       "      <td>high_fever</td>\n",
       "      <td>headache</td>\n",
       "      <td>avoid open cuts</td>\n",
       "      <td>wear ppe if possible</td>\n",
       "      <td>consult doctor</td>\n",
       "      <td>follow up</td>\n",
       "      <td>Acquired immunodeficiency syndrome (AIDS) is a...</td>\n",
       "    </tr>\n",
       "    <tr>\n",
       "      <th>4</th>\n",
       "      <td>AIDS</td>\n",
       "      <td>muscle_wasting</td>\n",
       "      <td>patches_in_throat</td>\n",
       "      <td>high_fever</td>\n",
       "      <td>high_fever</td>\n",
       "      <td>headache</td>\n",
       "      <td>avoid open cuts</td>\n",
       "      <td>wear ppe if possible</td>\n",
       "      <td>consult doctor</td>\n",
       "      <td>follow up</td>\n",
       "      <td>Acquired immunodeficiency syndrome (AIDS) is a...</td>\n",
       "    </tr>\n",
       "    <tr>\n",
       "      <th>5</th>\n",
       "      <td>Acne</td>\n",
       "      <td>skin_rash</td>\n",
       "      <td>pus_filled_pimples</td>\n",
       "      <td>blackheads</td>\n",
       "      <td>scurrying</td>\n",
       "      <td>headache</td>\n",
       "      <td>bath twice</td>\n",
       "      <td>avoid fatty spicy food</td>\n",
       "      <td>drink plenty of water</td>\n",
       "      <td>avoid too many products</td>\n",
       "      <td>Acne vulgaris is the formation of comedones, p...</td>\n",
       "    </tr>\n",
       "    <tr>\n",
       "      <th>6</th>\n",
       "      <td>Acne</td>\n",
       "      <td>pus_filled_pimples</td>\n",
       "      <td>blackheads</td>\n",
       "      <td>scurrying</td>\n",
       "      <td>high_fever</td>\n",
       "      <td>headache</td>\n",
       "      <td>bath twice</td>\n",
       "      <td>avoid fatty spicy food</td>\n",
       "      <td>drink plenty of water</td>\n",
       "      <td>avoid too many products</td>\n",
       "      <td>Acne vulgaris is the formation of comedones, p...</td>\n",
       "    </tr>\n",
       "    <tr>\n",
       "      <th>7</th>\n",
       "      <td>Acne</td>\n",
       "      <td>skin_rash</td>\n",
       "      <td>blackheads</td>\n",
       "      <td>scurrying</td>\n",
       "      <td>high_fever</td>\n",
       "      <td>headache</td>\n",
       "      <td>bath twice</td>\n",
       "      <td>avoid fatty spicy food</td>\n",
       "      <td>drink plenty of water</td>\n",
       "      <td>avoid too many products</td>\n",
       "      <td>Acne vulgaris is the formation of comedones, p...</td>\n",
       "    </tr>\n",
       "    <tr>\n",
       "      <th>8</th>\n",
       "      <td>Acne</td>\n",
       "      <td>skin_rash</td>\n",
       "      <td>pus_filled_pimples</td>\n",
       "      <td>scurrying</td>\n",
       "      <td>high_fever</td>\n",
       "      <td>headache</td>\n",
       "      <td>bath twice</td>\n",
       "      <td>avoid fatty spicy food</td>\n",
       "      <td>drink plenty of water</td>\n",
       "      <td>avoid too many products</td>\n",
       "      <td>Acne vulgaris is the formation of comedones, p...</td>\n",
       "    </tr>\n",
       "    <tr>\n",
       "      <th>9</th>\n",
       "      <td>Acne</td>\n",
       "      <td>skin_rash</td>\n",
       "      <td>pus_filled_pimples</td>\n",
       "      <td>blackheads</td>\n",
       "      <td>high_fever</td>\n",
       "      <td>headache</td>\n",
       "      <td>bath twice</td>\n",
       "      <td>avoid fatty spicy food</td>\n",
       "      <td>drink plenty of water</td>\n",
       "      <td>avoid too many products</td>\n",
       "      <td>Acne vulgaris is the formation of comedones, p...</td>\n",
       "    </tr>\n",
       "  </tbody>\n",
       "</table>\n",
       "</div>"
      ],
      "text/plain": [
       "  Disease            Symptom_0            Symptom_1                Symptom_2  \\\n",
       "0    AIDS       muscle_wasting    patches_in_throat               high_fever   \n",
       "1    AIDS    patches_in_throat           high_fever   extra_marital_contacts   \n",
       "2    AIDS       muscle_wasting           high_fever   extra_marital_contacts   \n",
       "3    AIDS       muscle_wasting    patches_in_throat   extra_marital_contacts   \n",
       "4    AIDS       muscle_wasting    patches_in_throat               high_fever   \n",
       "5    Acne            skin_rash   pus_filled_pimples               blackheads   \n",
       "6    Acne   pus_filled_pimples           blackheads                scurrying   \n",
       "7    Acne            skin_rash           blackheads                scurrying   \n",
       "8    Acne            skin_rash   pus_filled_pimples                scurrying   \n",
       "9    Acne            skin_rash   pus_filled_pimples               blackheads   \n",
       "\n",
       "                 Symptom_3 Symptom_4 Symptom_precaution_0  \\\n",
       "0   extra_marital_contacts  headache      avoid open cuts   \n",
       "1               high_fever  headache      avoid open cuts   \n",
       "2               high_fever  headache      avoid open cuts   \n",
       "3               high_fever  headache      avoid open cuts   \n",
       "4               high_fever  headache      avoid open cuts   \n",
       "5                scurrying  headache           bath twice   \n",
       "6               high_fever  headache           bath twice   \n",
       "7               high_fever  headache           bath twice   \n",
       "8               high_fever  headache           bath twice   \n",
       "9               high_fever  headache           bath twice   \n",
       "\n",
       "     Symptom_precaution_1   Symptom_precaution_2     Symptom_precaution_3  \\\n",
       "0    wear ppe if possible         consult doctor                follow up   \n",
       "1    wear ppe if possible         consult doctor                follow up   \n",
       "2    wear ppe if possible         consult doctor                follow up   \n",
       "3    wear ppe if possible         consult doctor                follow up   \n",
       "4    wear ppe if possible         consult doctor                follow up   \n",
       "5  avoid fatty spicy food  drink plenty of water  avoid too many products   \n",
       "6  avoid fatty spicy food  drink plenty of water  avoid too many products   \n",
       "7  avoid fatty spicy food  drink plenty of water  avoid too many products   \n",
       "8  avoid fatty spicy food  drink plenty of water  avoid too many products   \n",
       "9  avoid fatty spicy food  drink plenty of water  avoid too many products   \n",
       "\n",
       "                                 Symptom_Description  \n",
       "0  Acquired immunodeficiency syndrome (AIDS) is a...  \n",
       "1  Acquired immunodeficiency syndrome (AIDS) is a...  \n",
       "2  Acquired immunodeficiency syndrome (AIDS) is a...  \n",
       "3  Acquired immunodeficiency syndrome (AIDS) is a...  \n",
       "4  Acquired immunodeficiency syndrome (AIDS) is a...  \n",
       "5  Acne vulgaris is the formation of comedones, p...  \n",
       "6  Acne vulgaris is the formation of comedones, p...  \n",
       "7  Acne vulgaris is the formation of comedones, p...  \n",
       "8  Acne vulgaris is the formation of comedones, p...  \n",
       "9  Acne vulgaris is the formation of comedones, p...  "
      ]
     },
     "execution_count": 1001,
     "metadata": {},
     "output_type": "execute_result"
    }
   ],
   "source": [
    "merged_df.head(10)"
   ]
  },
  {
   "cell_type": "code",
   "execution_count": 1002,
   "metadata": {},
   "outputs": [],
   "source": [
    "merged_df.loc[merged_df['Disease'] == 'Paralysis (brain hemorrhage)', 'Symptom_Description'] = 'Intracerebral haemorrhage (ICH) is when blood suddenly bursts into brain tissue, causing damage to your brain. Symptoms usually appear suddenly during ICH. They include headache, weakness, confusion, and paralysis, particularly on one side of your body.'\n"
   ]
  },
  {
   "cell_type": "code",
   "execution_count": 1003,
   "metadata": {},
   "outputs": [
    {
     "name": "stdout",
     "output_type": "stream",
     "text": [
      "<class 'pandas.core.frame.DataFrame'>\n",
      "RangeIndex: 313 entries, 0 to 312\n",
      "Data columns (total 11 columns):\n",
      " #   Column                Non-Null Count  Dtype \n",
      "---  ------                --------------  ----- \n",
      " 0   Disease               313 non-null    object\n",
      " 1   Symptom_0             313 non-null    object\n",
      " 2   Symptom_1             313 non-null    object\n",
      " 3   Symptom_2             313 non-null    object\n",
      " 4   Symptom_3             313 non-null    object\n",
      " 5   Symptom_4             313 non-null    object\n",
      " 6   Symptom_precaution_0  313 non-null    object\n",
      " 7   Symptom_precaution_1  313 non-null    object\n",
      " 8   Symptom_precaution_2  313 non-null    object\n",
      " 9   Symptom_precaution_3  313 non-null    object\n",
      " 10  Symptom_Description   313 non-null    object\n",
      "dtypes: object(11)\n",
      "memory usage: 27.0+ KB\n"
     ]
    }
   ],
   "source": [
    "merged_df.info()"
   ]
  },
  {
   "cell_type": "code",
   "execution_count": 1004,
   "metadata": {},
   "outputs": [
    {
     "data": {
      "text/html": [
       "<div>\n",
       "<style scoped>\n",
       "    .dataframe tbody tr th:only-of-type {\n",
       "        vertical-align: middle;\n",
       "    }\n",
       "\n",
       "    .dataframe tbody tr th {\n",
       "        vertical-align: top;\n",
       "    }\n",
       "\n",
       "    .dataframe thead th {\n",
       "        text-align: right;\n",
       "    }\n",
       "</style>\n",
       "<table border=\"1\" class=\"dataframe\">\n",
       "  <thead>\n",
       "    <tr style=\"text-align: right;\">\n",
       "      <th></th>\n",
       "      <th>Disease</th>\n",
       "      <th>Symptom_0</th>\n",
       "      <th>Symptom_1</th>\n",
       "      <th>Symptom_2</th>\n",
       "      <th>Symptom_3</th>\n",
       "      <th>Symptom_4</th>\n",
       "      <th>Symptom_precaution_0</th>\n",
       "      <th>Symptom_precaution_1</th>\n",
       "      <th>Symptom_precaution_2</th>\n",
       "      <th>Symptom_precaution_3</th>\n",
       "      <th>Symptom_Description</th>\n",
       "    </tr>\n",
       "  </thead>\n",
       "  <tbody>\n",
       "    <tr>\n",
       "      <th>0</th>\n",
       "      <td>AIDS</td>\n",
       "      <td>muscle_wasting</td>\n",
       "      <td>patches_in_throat</td>\n",
       "      <td>high_fever</td>\n",
       "      <td>extra_marital_contacts</td>\n",
       "      <td>headache</td>\n",
       "      <td>avoid open cuts</td>\n",
       "      <td>wear ppe if possible</td>\n",
       "      <td>consult doctor</td>\n",
       "      <td>follow up</td>\n",
       "      <td>Acquired immunodeficiency syndrome (AIDS) is a...</td>\n",
       "    </tr>\n",
       "    <tr>\n",
       "      <th>1</th>\n",
       "      <td>AIDS</td>\n",
       "      <td>patches_in_throat</td>\n",
       "      <td>high_fever</td>\n",
       "      <td>extra_marital_contacts</td>\n",
       "      <td>high_fever</td>\n",
       "      <td>headache</td>\n",
       "      <td>avoid open cuts</td>\n",
       "      <td>wear ppe if possible</td>\n",
       "      <td>consult doctor</td>\n",
       "      <td>follow up</td>\n",
       "      <td>Acquired immunodeficiency syndrome (AIDS) is a...</td>\n",
       "    </tr>\n",
       "    <tr>\n",
       "      <th>2</th>\n",
       "      <td>AIDS</td>\n",
       "      <td>muscle_wasting</td>\n",
       "      <td>high_fever</td>\n",
       "      <td>extra_marital_contacts</td>\n",
       "      <td>high_fever</td>\n",
       "      <td>headache</td>\n",
       "      <td>avoid open cuts</td>\n",
       "      <td>wear ppe if possible</td>\n",
       "      <td>consult doctor</td>\n",
       "      <td>follow up</td>\n",
       "      <td>Acquired immunodeficiency syndrome (AIDS) is a...</td>\n",
       "    </tr>\n",
       "    <tr>\n",
       "      <th>3</th>\n",
       "      <td>AIDS</td>\n",
       "      <td>muscle_wasting</td>\n",
       "      <td>patches_in_throat</td>\n",
       "      <td>extra_marital_contacts</td>\n",
       "      <td>high_fever</td>\n",
       "      <td>headache</td>\n",
       "      <td>avoid open cuts</td>\n",
       "      <td>wear ppe if possible</td>\n",
       "      <td>consult doctor</td>\n",
       "      <td>follow up</td>\n",
       "      <td>Acquired immunodeficiency syndrome (AIDS) is a...</td>\n",
       "    </tr>\n",
       "    <tr>\n",
       "      <th>4</th>\n",
       "      <td>AIDS</td>\n",
       "      <td>muscle_wasting</td>\n",
       "      <td>patches_in_throat</td>\n",
       "      <td>high_fever</td>\n",
       "      <td>high_fever</td>\n",
       "      <td>headache</td>\n",
       "      <td>avoid open cuts</td>\n",
       "      <td>wear ppe if possible</td>\n",
       "      <td>consult doctor</td>\n",
       "      <td>follow up</td>\n",
       "      <td>Acquired immunodeficiency syndrome (AIDS) is a...</td>\n",
       "    </tr>\n",
       "    <tr>\n",
       "      <th>5</th>\n",
       "      <td>Acne</td>\n",
       "      <td>skin_rash</td>\n",
       "      <td>pus_filled_pimples</td>\n",
       "      <td>blackheads</td>\n",
       "      <td>scurrying</td>\n",
       "      <td>headache</td>\n",
       "      <td>bath twice</td>\n",
       "      <td>avoid fatty spicy food</td>\n",
       "      <td>drink plenty of water</td>\n",
       "      <td>avoid too many products</td>\n",
       "      <td>Acne vulgaris is the formation of comedones, p...</td>\n",
       "    </tr>\n",
       "    <tr>\n",
       "      <th>6</th>\n",
       "      <td>Acne</td>\n",
       "      <td>pus_filled_pimples</td>\n",
       "      <td>blackheads</td>\n",
       "      <td>scurrying</td>\n",
       "      <td>high_fever</td>\n",
       "      <td>headache</td>\n",
       "      <td>bath twice</td>\n",
       "      <td>avoid fatty spicy food</td>\n",
       "      <td>drink plenty of water</td>\n",
       "      <td>avoid too many products</td>\n",
       "      <td>Acne vulgaris is the formation of comedones, p...</td>\n",
       "    </tr>\n",
       "    <tr>\n",
       "      <th>7</th>\n",
       "      <td>Acne</td>\n",
       "      <td>skin_rash</td>\n",
       "      <td>blackheads</td>\n",
       "      <td>scurrying</td>\n",
       "      <td>high_fever</td>\n",
       "      <td>headache</td>\n",
       "      <td>bath twice</td>\n",
       "      <td>avoid fatty spicy food</td>\n",
       "      <td>drink plenty of water</td>\n",
       "      <td>avoid too many products</td>\n",
       "      <td>Acne vulgaris is the formation of comedones, p...</td>\n",
       "    </tr>\n",
       "    <tr>\n",
       "      <th>8</th>\n",
       "      <td>Acne</td>\n",
       "      <td>skin_rash</td>\n",
       "      <td>pus_filled_pimples</td>\n",
       "      <td>scurrying</td>\n",
       "      <td>high_fever</td>\n",
       "      <td>headache</td>\n",
       "      <td>bath twice</td>\n",
       "      <td>avoid fatty spicy food</td>\n",
       "      <td>drink plenty of water</td>\n",
       "      <td>avoid too many products</td>\n",
       "      <td>Acne vulgaris is the formation of comedones, p...</td>\n",
       "    </tr>\n",
       "    <tr>\n",
       "      <th>9</th>\n",
       "      <td>Acne</td>\n",
       "      <td>skin_rash</td>\n",
       "      <td>pus_filled_pimples</td>\n",
       "      <td>blackheads</td>\n",
       "      <td>high_fever</td>\n",
       "      <td>headache</td>\n",
       "      <td>bath twice</td>\n",
       "      <td>avoid fatty spicy food</td>\n",
       "      <td>drink plenty of water</td>\n",
       "      <td>avoid too many products</td>\n",
       "      <td>Acne vulgaris is the formation of comedones, p...</td>\n",
       "    </tr>\n",
       "  </tbody>\n",
       "</table>\n",
       "</div>"
      ],
      "text/plain": [
       "  Disease            Symptom_0            Symptom_1                Symptom_2  \\\n",
       "0    AIDS       muscle_wasting    patches_in_throat               high_fever   \n",
       "1    AIDS    patches_in_throat           high_fever   extra_marital_contacts   \n",
       "2    AIDS       muscle_wasting           high_fever   extra_marital_contacts   \n",
       "3    AIDS       muscle_wasting    patches_in_throat   extra_marital_contacts   \n",
       "4    AIDS       muscle_wasting    patches_in_throat               high_fever   \n",
       "5    Acne            skin_rash   pus_filled_pimples               blackheads   \n",
       "6    Acne   pus_filled_pimples           blackheads                scurrying   \n",
       "7    Acne            skin_rash           blackheads                scurrying   \n",
       "8    Acne            skin_rash   pus_filled_pimples                scurrying   \n",
       "9    Acne            skin_rash   pus_filled_pimples               blackheads   \n",
       "\n",
       "                 Symptom_3 Symptom_4 Symptom_precaution_0  \\\n",
       "0   extra_marital_contacts  headache      avoid open cuts   \n",
       "1               high_fever  headache      avoid open cuts   \n",
       "2               high_fever  headache      avoid open cuts   \n",
       "3               high_fever  headache      avoid open cuts   \n",
       "4               high_fever  headache      avoid open cuts   \n",
       "5                scurrying  headache           bath twice   \n",
       "6               high_fever  headache           bath twice   \n",
       "7               high_fever  headache           bath twice   \n",
       "8               high_fever  headache           bath twice   \n",
       "9               high_fever  headache           bath twice   \n",
       "\n",
       "     Symptom_precaution_1   Symptom_precaution_2     Symptom_precaution_3  \\\n",
       "0    wear ppe if possible         consult doctor                follow up   \n",
       "1    wear ppe if possible         consult doctor                follow up   \n",
       "2    wear ppe if possible         consult doctor                follow up   \n",
       "3    wear ppe if possible         consult doctor                follow up   \n",
       "4    wear ppe if possible         consult doctor                follow up   \n",
       "5  avoid fatty spicy food  drink plenty of water  avoid too many products   \n",
       "6  avoid fatty spicy food  drink plenty of water  avoid too many products   \n",
       "7  avoid fatty spicy food  drink plenty of water  avoid too many products   \n",
       "8  avoid fatty spicy food  drink plenty of water  avoid too many products   \n",
       "9  avoid fatty spicy food  drink plenty of water  avoid too many products   \n",
       "\n",
       "                                 Symptom_Description  \n",
       "0  Acquired immunodeficiency syndrome (AIDS) is a...  \n",
       "1  Acquired immunodeficiency syndrome (AIDS) is a...  \n",
       "2  Acquired immunodeficiency syndrome (AIDS) is a...  \n",
       "3  Acquired immunodeficiency syndrome (AIDS) is a...  \n",
       "4  Acquired immunodeficiency syndrome (AIDS) is a...  \n",
       "5  Acne vulgaris is the formation of comedones, p...  \n",
       "6  Acne vulgaris is the formation of comedones, p...  \n",
       "7  Acne vulgaris is the formation of comedones, p...  \n",
       "8  Acne vulgaris is the formation of comedones, p...  \n",
       "9  Acne vulgaris is the formation of comedones, p...  "
      ]
     },
     "execution_count": 1004,
     "metadata": {},
     "output_type": "execute_result"
    }
   ],
   "source": [
    "merged_df.head(10)"
   ]
  },
  {
   "cell_type": "code",
   "execution_count": 1005,
   "metadata": {},
   "outputs": [],
   "source": [
    "with open('dataset/processed_data.csv', 'w') as csv_file:\n",
    "    merged_df.to_csv(path_or_buf=csv_file,index=False)"
   ]
  },
  {
   "cell_type": "code",
   "execution_count": 1006,
   "metadata": {},
   "outputs": [
    {
     "data": {
      "text/html": [
       "<div>\n",
       "<style scoped>\n",
       "    .dataframe tbody tr th:only-of-type {\n",
       "        vertical-align: middle;\n",
       "    }\n",
       "\n",
       "    .dataframe tbody tr th {\n",
       "        vertical-align: top;\n",
       "    }\n",
       "\n",
       "    .dataframe thead th {\n",
       "        text-align: right;\n",
       "    }\n",
       "</style>\n",
       "<table border=\"1\" class=\"dataframe\">\n",
       "  <thead>\n",
       "    <tr style=\"text-align: right;\">\n",
       "      <th></th>\n",
       "      <th>Disease</th>\n",
       "      <th>Symptom_0</th>\n",
       "      <th>Symptom_1</th>\n",
       "      <th>Symptom_2</th>\n",
       "      <th>Symptom_3</th>\n",
       "      <th>Symptom_4</th>\n",
       "      <th>Symptom_precaution_0</th>\n",
       "      <th>Symptom_precaution_1</th>\n",
       "      <th>Symptom_precaution_2</th>\n",
       "      <th>Symptom_precaution_3</th>\n",
       "      <th>Symptom_Description</th>\n",
       "    </tr>\n",
       "  </thead>\n",
       "  <tbody>\n",
       "    <tr>\n",
       "      <th>0</th>\n",
       "      <td>AIDS</td>\n",
       "      <td>muscle_wasting</td>\n",
       "      <td>patches_in_throat</td>\n",
       "      <td>high_fever</td>\n",
       "      <td>extra_marital_contacts</td>\n",
       "      <td>headache</td>\n",
       "      <td>avoid open cuts</td>\n",
       "      <td>wear ppe if possible</td>\n",
       "      <td>consult doctor</td>\n",
       "      <td>follow up</td>\n",
       "      <td>Acquired immunodeficiency syndrome (AIDS) is a...</td>\n",
       "    </tr>\n",
       "    <tr>\n",
       "      <th>1</th>\n",
       "      <td>AIDS</td>\n",
       "      <td>patches_in_throat</td>\n",
       "      <td>high_fever</td>\n",
       "      <td>extra_marital_contacts</td>\n",
       "      <td>high_fever</td>\n",
       "      <td>headache</td>\n",
       "      <td>avoid open cuts</td>\n",
       "      <td>wear ppe if possible</td>\n",
       "      <td>consult doctor</td>\n",
       "      <td>follow up</td>\n",
       "      <td>Acquired immunodeficiency syndrome (AIDS) is a...</td>\n",
       "    </tr>\n",
       "    <tr>\n",
       "      <th>2</th>\n",
       "      <td>AIDS</td>\n",
       "      <td>muscle_wasting</td>\n",
       "      <td>high_fever</td>\n",
       "      <td>extra_marital_contacts</td>\n",
       "      <td>high_fever</td>\n",
       "      <td>headache</td>\n",
       "      <td>avoid open cuts</td>\n",
       "      <td>wear ppe if possible</td>\n",
       "      <td>consult doctor</td>\n",
       "      <td>follow up</td>\n",
       "      <td>Acquired immunodeficiency syndrome (AIDS) is a...</td>\n",
       "    </tr>\n",
       "    <tr>\n",
       "      <th>3</th>\n",
       "      <td>AIDS</td>\n",
       "      <td>muscle_wasting</td>\n",
       "      <td>patches_in_throat</td>\n",
       "      <td>extra_marital_contacts</td>\n",
       "      <td>high_fever</td>\n",
       "      <td>headache</td>\n",
       "      <td>avoid open cuts</td>\n",
       "      <td>wear ppe if possible</td>\n",
       "      <td>consult doctor</td>\n",
       "      <td>follow up</td>\n",
       "      <td>Acquired immunodeficiency syndrome (AIDS) is a...</td>\n",
       "    </tr>\n",
       "    <tr>\n",
       "      <th>4</th>\n",
       "      <td>AIDS</td>\n",
       "      <td>muscle_wasting</td>\n",
       "      <td>patches_in_throat</td>\n",
       "      <td>high_fever</td>\n",
       "      <td>high_fever</td>\n",
       "      <td>headache</td>\n",
       "      <td>avoid open cuts</td>\n",
       "      <td>wear ppe if possible</td>\n",
       "      <td>consult doctor</td>\n",
       "      <td>follow up</td>\n",
       "      <td>Acquired immunodeficiency syndrome (AIDS) is a...</td>\n",
       "    </tr>\n",
       "  </tbody>\n",
       "</table>\n",
       "</div>"
      ],
      "text/plain": [
       "  Disease           Symptom_0           Symptom_1                Symptom_2  \\\n",
       "0    AIDS      muscle_wasting   patches_in_throat               high_fever   \n",
       "1    AIDS   patches_in_throat          high_fever   extra_marital_contacts   \n",
       "2    AIDS      muscle_wasting          high_fever   extra_marital_contacts   \n",
       "3    AIDS      muscle_wasting   patches_in_throat   extra_marital_contacts   \n",
       "4    AIDS      muscle_wasting   patches_in_throat               high_fever   \n",
       "\n",
       "                 Symptom_3 Symptom_4 Symptom_precaution_0  \\\n",
       "0   extra_marital_contacts  headache      avoid open cuts   \n",
       "1               high_fever  headache      avoid open cuts   \n",
       "2               high_fever  headache      avoid open cuts   \n",
       "3               high_fever  headache      avoid open cuts   \n",
       "4               high_fever  headache      avoid open cuts   \n",
       "\n",
       "   Symptom_precaution_1 Symptom_precaution_2 Symptom_precaution_3  \\\n",
       "0  wear ppe if possible       consult doctor            follow up   \n",
       "1  wear ppe if possible       consult doctor            follow up   \n",
       "2  wear ppe if possible       consult doctor            follow up   \n",
       "3  wear ppe if possible       consult doctor            follow up   \n",
       "4  wear ppe if possible       consult doctor            follow up   \n",
       "\n",
       "                                 Symptom_Description  \n",
       "0  Acquired immunodeficiency syndrome (AIDS) is a...  \n",
       "1  Acquired immunodeficiency syndrome (AIDS) is a...  \n",
       "2  Acquired immunodeficiency syndrome (AIDS) is a...  \n",
       "3  Acquired immunodeficiency syndrome (AIDS) is a...  \n",
       "4  Acquired immunodeficiency syndrome (AIDS) is a...  "
      ]
     },
     "execution_count": 1006,
     "metadata": {},
     "output_type": "execute_result"
    }
   ],
   "source": [
    "merged_df.head()"
   ]
  },
  {
   "cell_type": "code",
   "execution_count": 1007,
   "metadata": {},
   "outputs": [],
   "source": [
    "merged_df.to_csv(\"dataset/Disease_processed_data.csv\", sep=',', index=False, encoding='utf-8')"
   ]
  },
  {
   "cell_type": "code",
   "execution_count": 1008,
   "metadata": {},
   "outputs": [
    {
     "data": {
      "text/html": [
       "<div>\n",
       "<style scoped>\n",
       "    .dataframe tbody tr th:only-of-type {\n",
       "        vertical-align: middle;\n",
       "    }\n",
       "\n",
       "    .dataframe tbody tr th {\n",
       "        vertical-align: top;\n",
       "    }\n",
       "\n",
       "    .dataframe thead th {\n",
       "        text-align: right;\n",
       "    }\n",
       "</style>\n",
       "<table border=\"1\" class=\"dataframe\">\n",
       "  <thead>\n",
       "    <tr style=\"text-align: right;\">\n",
       "      <th></th>\n",
       "      <th>Disease</th>\n",
       "      <th>Symptom_0</th>\n",
       "      <th>Symptom_1</th>\n",
       "      <th>Symptom_2</th>\n",
       "      <th>Symptom_3</th>\n",
       "      <th>Symptom_4</th>\n",
       "      <th>Symptom_precaution_0</th>\n",
       "      <th>Symptom_precaution_1</th>\n",
       "      <th>Symptom_precaution_2</th>\n",
       "      <th>Symptom_precaution_3</th>\n",
       "      <th>Symptom_Description</th>\n",
       "    </tr>\n",
       "  </thead>\n",
       "  <tbody>\n",
       "    <tr>\n",
       "      <th>0</th>\n",
       "      <td>AIDS</td>\n",
       "      <td>muscle_wasting</td>\n",
       "      <td>patches_in_throat</td>\n",
       "      <td>high_fever</td>\n",
       "      <td>extra_marital_contacts</td>\n",
       "      <td>headache</td>\n",
       "      <td>avoid open cuts</td>\n",
       "      <td>wear ppe if possible</td>\n",
       "      <td>consult doctor</td>\n",
       "      <td>follow up</td>\n",
       "      <td>Acquired immunodeficiency syndrome (AIDS) is a...</td>\n",
       "    </tr>\n",
       "    <tr>\n",
       "      <th>1</th>\n",
       "      <td>AIDS</td>\n",
       "      <td>patches_in_throat</td>\n",
       "      <td>high_fever</td>\n",
       "      <td>extra_marital_contacts</td>\n",
       "      <td>high_fever</td>\n",
       "      <td>headache</td>\n",
       "      <td>avoid open cuts</td>\n",
       "      <td>wear ppe if possible</td>\n",
       "      <td>consult doctor</td>\n",
       "      <td>follow up</td>\n",
       "      <td>Acquired immunodeficiency syndrome (AIDS) is a...</td>\n",
       "    </tr>\n",
       "    <tr>\n",
       "      <th>2</th>\n",
       "      <td>AIDS</td>\n",
       "      <td>muscle_wasting</td>\n",
       "      <td>high_fever</td>\n",
       "      <td>extra_marital_contacts</td>\n",
       "      <td>high_fever</td>\n",
       "      <td>headache</td>\n",
       "      <td>avoid open cuts</td>\n",
       "      <td>wear ppe if possible</td>\n",
       "      <td>consult doctor</td>\n",
       "      <td>follow up</td>\n",
       "      <td>Acquired immunodeficiency syndrome (AIDS) is a...</td>\n",
       "    </tr>\n",
       "    <tr>\n",
       "      <th>3</th>\n",
       "      <td>AIDS</td>\n",
       "      <td>muscle_wasting</td>\n",
       "      <td>patches_in_throat</td>\n",
       "      <td>extra_marital_contacts</td>\n",
       "      <td>high_fever</td>\n",
       "      <td>headache</td>\n",
       "      <td>avoid open cuts</td>\n",
       "      <td>wear ppe if possible</td>\n",
       "      <td>consult doctor</td>\n",
       "      <td>follow up</td>\n",
       "      <td>Acquired immunodeficiency syndrome (AIDS) is a...</td>\n",
       "    </tr>\n",
       "    <tr>\n",
       "      <th>4</th>\n",
       "      <td>AIDS</td>\n",
       "      <td>muscle_wasting</td>\n",
       "      <td>patches_in_throat</td>\n",
       "      <td>high_fever</td>\n",
       "      <td>high_fever</td>\n",
       "      <td>headache</td>\n",
       "      <td>avoid open cuts</td>\n",
       "      <td>wear ppe if possible</td>\n",
       "      <td>consult doctor</td>\n",
       "      <td>follow up</td>\n",
       "      <td>Acquired immunodeficiency syndrome (AIDS) is a...</td>\n",
       "    </tr>\n",
       "  </tbody>\n",
       "</table>\n",
       "</div>"
      ],
      "text/plain": [
       "  Disease           Symptom_0           Symptom_1                Symptom_2  \\\n",
       "0    AIDS      muscle_wasting   patches_in_throat               high_fever   \n",
       "1    AIDS   patches_in_throat          high_fever   extra_marital_contacts   \n",
       "2    AIDS      muscle_wasting          high_fever   extra_marital_contacts   \n",
       "3    AIDS      muscle_wasting   patches_in_throat   extra_marital_contacts   \n",
       "4    AIDS      muscle_wasting   patches_in_throat               high_fever   \n",
       "\n",
       "                 Symptom_3 Symptom_4 Symptom_precaution_0  \\\n",
       "0   extra_marital_contacts  headache      avoid open cuts   \n",
       "1               high_fever  headache      avoid open cuts   \n",
       "2               high_fever  headache      avoid open cuts   \n",
       "3               high_fever  headache      avoid open cuts   \n",
       "4               high_fever  headache      avoid open cuts   \n",
       "\n",
       "   Symptom_precaution_1 Symptom_precaution_2 Symptom_precaution_3  \\\n",
       "0  wear ppe if possible       consult doctor            follow up   \n",
       "1  wear ppe if possible       consult doctor            follow up   \n",
       "2  wear ppe if possible       consult doctor            follow up   \n",
       "3  wear ppe if possible       consult doctor            follow up   \n",
       "4  wear ppe if possible       consult doctor            follow up   \n",
       "\n",
       "                                 Symptom_Description  \n",
       "0  Acquired immunodeficiency syndrome (AIDS) is a...  \n",
       "1  Acquired immunodeficiency syndrome (AIDS) is a...  \n",
       "2  Acquired immunodeficiency syndrome (AIDS) is a...  \n",
       "3  Acquired immunodeficiency syndrome (AIDS) is a...  \n",
       "4  Acquired immunodeficiency syndrome (AIDS) is a...  "
      ]
     },
     "execution_count": 1008,
     "metadata": {},
     "output_type": "execute_result"
    }
   ],
   "source": [
    "new_df = pd.read_csv('dataset/Disease_processed_data.csv')\n",
    "new_df.head()"
   ]
  },
  {
   "cell_type": "markdown",
   "metadata": {},
   "source": [
    "Now We do some data manipulation on the health dataset"
   ]
  },
  {
   "cell_type": "code",
   "execution_count": 1009,
   "metadata": {},
   "outputs": [
    {
     "data": {
      "text/html": [
       "<div>\n",
       "<style scoped>\n",
       "    .dataframe tbody tr th:only-of-type {\n",
       "        vertical-align: middle;\n",
       "    }\n",
       "\n",
       "    .dataframe tbody tr th {\n",
       "        vertical-align: top;\n",
       "    }\n",
       "\n",
       "    .dataframe thead th {\n",
       "        text-align: right;\n",
       "    }\n",
       "</style>\n",
       "<table border=\"1\" class=\"dataframe\">\n",
       "  <thead>\n",
       "    <tr style=\"text-align: right;\">\n",
       "      <th></th>\n",
       "      <th>id</th>\n",
       "      <th>gender</th>\n",
       "      <th>age</th>\n",
       "      <th>heart_rate</th>\n",
       "      <th>temperature</th>\n",
       "      <th>SpO2_saturation</th>\n",
       "      <th>bpm</th>\n",
       "      <th>Health_status</th>\n",
       "    </tr>\n",
       "  </thead>\n",
       "  <tbody>\n",
       "    <tr>\n",
       "      <th>0</th>\n",
       "      <td>1</td>\n",
       "      <td>male</td>\n",
       "      <td>66.0</td>\n",
       "      <td>70</td>\n",
       "      <td>38.6</td>\n",
       "      <td>88.0</td>\n",
       "      <td>75</td>\n",
       "      <td>Infected</td>\n",
       "    </tr>\n",
       "    <tr>\n",
       "      <th>1</th>\n",
       "      <td>2</td>\n",
       "      <td>female</td>\n",
       "      <td>56.0</td>\n",
       "      <td>74</td>\n",
       "      <td>39.6</td>\n",
       "      <td>88.0</td>\n",
       "      <td>70</td>\n",
       "      <td>Infected</td>\n",
       "    </tr>\n",
       "    <tr>\n",
       "      <th>2</th>\n",
       "      <td>3</td>\n",
       "      <td>male</td>\n",
       "      <td>46.0</td>\n",
       "      <td>82</td>\n",
       "      <td>37.2</td>\n",
       "      <td>98.0</td>\n",
       "      <td>83</td>\n",
       "      <td>Non Infected</td>\n",
       "    </tr>\n",
       "    <tr>\n",
       "      <th>3</th>\n",
       "      <td>4</td>\n",
       "      <td>female</td>\n",
       "      <td>60.0</td>\n",
       "      <td>90</td>\n",
       "      <td>38.6</td>\n",
       "      <td>98.0</td>\n",
       "      <td>75</td>\n",
       "      <td>Non Infected</td>\n",
       "    </tr>\n",
       "    <tr>\n",
       "      <th>4</th>\n",
       "      <td>5</td>\n",
       "      <td>male</td>\n",
       "      <td>58.0</td>\n",
       "      <td>72</td>\n",
       "      <td>39.6</td>\n",
       "      <td>93.0</td>\n",
       "      <td>78</td>\n",
       "      <td>Infected</td>\n",
       "    </tr>\n",
       "  </tbody>\n",
       "</table>\n",
       "</div>"
      ],
      "text/plain": [
       "   id  gender   age  heart_rate  temperature  SpO2_saturation  bpm  \\\n",
       "0   1    male  66.0          70         38.6             88.0   75   \n",
       "1   2  female  56.0          74         39.6             88.0   70   \n",
       "2   3    male  46.0          82         37.2             98.0   83   \n",
       "3   4  female  60.0          90         38.6             98.0   75   \n",
       "4   5    male  58.0          72         39.6             93.0   78   \n",
       "\n",
       "  Health_status  \n",
       "0      Infected  \n",
       "1      Infected  \n",
       "2  Non Infected  \n",
       "3  Non Infected  \n",
       "4      Infected  "
      ]
     },
     "execution_count": 1009,
     "metadata": {},
     "output_type": "execute_result"
    }
   ],
   "source": [
    "df = pd.read_csv('dataset/health.csv')\n",
    "df.head()"
   ]
  },
  {
   "cell_type": "code",
   "execution_count": 1010,
   "metadata": {},
   "outputs": [
    {
     "name": "stdout",
     "output_type": "stream",
     "text": [
      "<class 'pandas.core.frame.DataFrame'>\n",
      "RangeIndex: 1085 entries, 0 to 1084\n",
      "Data columns (total 8 columns):\n",
      " #   Column           Non-Null Count  Dtype  \n",
      "---  ------           --------------  -----  \n",
      " 0   id               1085 non-null   int64  \n",
      " 1   gender           902 non-null    object \n",
      " 2   age              843 non-null    float64\n",
      " 3   heart_rate       1085 non-null   int64  \n",
      " 4   temperature      1085 non-null   float64\n",
      " 5   SpO2_saturation  1085 non-null   float64\n",
      " 6   bpm              1085 non-null   int64  \n",
      " 7   Health_status    1085 non-null   object \n",
      "dtypes: float64(3), int64(3), object(2)\n",
      "memory usage: 67.9+ KB\n"
     ]
    }
   ],
   "source": [
    "df.info()"
   ]
  },
  {
   "cell_type": "code",
   "execution_count": 1011,
   "metadata": {},
   "outputs": [
    {
     "data": {
      "text/html": [
       "<div>\n",
       "<style scoped>\n",
       "    .dataframe tbody tr th:only-of-type {\n",
       "        vertical-align: middle;\n",
       "    }\n",
       "\n",
       "    .dataframe tbody tr th {\n",
       "        vertical-align: top;\n",
       "    }\n",
       "\n",
       "    .dataframe thead th {\n",
       "        text-align: right;\n",
       "    }\n",
       "</style>\n",
       "<table border=\"1\" class=\"dataframe\">\n",
       "  <thead>\n",
       "    <tr style=\"text-align: right;\">\n",
       "      <th></th>\n",
       "      <th>gender</th>\n",
       "      <th>age</th>\n",
       "      <th>heart_rate</th>\n",
       "      <th>temperature</th>\n",
       "      <th>SpO2_saturation</th>\n",
       "      <th>bpm</th>\n",
       "      <th>Health_status</th>\n",
       "    </tr>\n",
       "  </thead>\n",
       "  <tbody>\n",
       "    <tr>\n",
       "      <th>0</th>\n",
       "      <td>male</td>\n",
       "      <td>66.0</td>\n",
       "      <td>70</td>\n",
       "      <td>38.6</td>\n",
       "      <td>88.0</td>\n",
       "      <td>75</td>\n",
       "      <td>Infected</td>\n",
       "    </tr>\n",
       "    <tr>\n",
       "      <th>1</th>\n",
       "      <td>female</td>\n",
       "      <td>56.0</td>\n",
       "      <td>74</td>\n",
       "      <td>39.6</td>\n",
       "      <td>88.0</td>\n",
       "      <td>70</td>\n",
       "      <td>Infected</td>\n",
       "    </tr>\n",
       "    <tr>\n",
       "      <th>2</th>\n",
       "      <td>male</td>\n",
       "      <td>46.0</td>\n",
       "      <td>82</td>\n",
       "      <td>37.2</td>\n",
       "      <td>98.0</td>\n",
       "      <td>83</td>\n",
       "      <td>Non Infected</td>\n",
       "    </tr>\n",
       "    <tr>\n",
       "      <th>3</th>\n",
       "      <td>female</td>\n",
       "      <td>60.0</td>\n",
       "      <td>90</td>\n",
       "      <td>38.6</td>\n",
       "      <td>98.0</td>\n",
       "      <td>75</td>\n",
       "      <td>Non Infected</td>\n",
       "    </tr>\n",
       "    <tr>\n",
       "      <th>4</th>\n",
       "      <td>male</td>\n",
       "      <td>58.0</td>\n",
       "      <td>72</td>\n",
       "      <td>39.6</td>\n",
       "      <td>93.0</td>\n",
       "      <td>78</td>\n",
       "      <td>Infected</td>\n",
       "    </tr>\n",
       "  </tbody>\n",
       "</table>\n",
       "</div>"
      ],
      "text/plain": [
       "   gender   age  heart_rate  temperature  SpO2_saturation  bpm Health_status\n",
       "0    male  66.0          70         38.6             88.0   75      Infected\n",
       "1  female  56.0          74         39.6             88.0   70      Infected\n",
       "2    male  46.0          82         37.2             98.0   83  Non Infected\n",
       "3  female  60.0          90         38.6             98.0   75  Non Infected\n",
       "4    male  58.0          72         39.6             93.0   78      Infected"
      ]
     },
     "execution_count": 1011,
     "metadata": {},
     "output_type": "execute_result"
    }
   ],
   "source": [
    "df = df.drop(columns=['id'])\n",
    "df.head()\n"
   ]
  },
  {
   "cell_type": "code",
   "execution_count": 1012,
   "metadata": {},
   "outputs": [
    {
     "name": "stdout",
     "output_type": "stream",
     "text": [
      "<class 'pandas.core.frame.DataFrame'>\n",
      "RangeIndex: 1085 entries, 0 to 1084\n",
      "Data columns (total 7 columns):\n",
      " #   Column           Non-Null Count  Dtype  \n",
      "---  ------           --------------  -----  \n",
      " 0   gender           902 non-null    object \n",
      " 1   age              843 non-null    float64\n",
      " 2   heart_rate       1085 non-null   int64  \n",
      " 3   temperature      1085 non-null   float64\n",
      " 4   SpO2_saturation  1085 non-null   float64\n",
      " 5   bpm              1085 non-null   int64  \n",
      " 6   Health_status    1085 non-null   object \n",
      "dtypes: float64(3), int64(2), object(2)\n",
      "memory usage: 59.5+ KB\n"
     ]
    }
   ],
   "source": [
    "df.info()"
   ]
  },
  {
   "cell_type": "code",
   "execution_count": 1013,
   "metadata": {},
   "outputs": [
    {
     "data": {
      "text/plain": [
       "<Axes: xlabel='gender'>"
      ]
     },
     "execution_count": 1013,
     "metadata": {},
     "output_type": "execute_result"
    },
    {
     "data": {
      "image/png": "[encoded data removed]",
      "text/plain": [
       "<Figure size 640x480 with 1 Axes>"
      ]
     },
     "metadata": {},
     "output_type": "display_data"
    }
   ],
   "source": [
    "df['gender'].value_counts().plot(kind='bar')"
   ]
  },
  {
   "cell_type": "code",
   "execution_count": 1014,
   "metadata": {},
   "outputs": [
    {
     "data": {
      "text/plain": [
       "<Axes: >"
      ]
     },
     "execution_count": 1014,
     "metadata": {},
     "output_type": "execute_result"
    },
    {
     "data": {
      "image/png": "[encoded data removed]",
      "text/plain": [
       "<Figure size 640x480 with 1 Axes>"
      ]
     },
     "metadata": {},
     "output_type": "display_data"
    }
   ],
   "source": [
    "df.plot(kind='box',x='gender',y='heart_rate')"
   ]
  },
  {
   "cell_type": "code",
   "execution_count": 1015,
   "metadata": {},
   "outputs": [
    {
     "data": {
      "text/plain": [
       "<Axes: >"
      ]
     },
     "execution_count": 1015,
     "metadata": {},
     "output_type": "execute_result"
    },
    {
     "data": {
      "image/png": "[encoded data removed]",
      "text/plain": [
       "<Figure size 640x480 with 1 Axes>"
      ]
     },
     "metadata": {},
     "output_type": "display_data"
    }
   ],
   "source": [
    "df.plot(kind='box',x='gender',y='bpm')"
   ]
  },
  {
   "cell_type": "code",
   "execution_count": 1016,
   "metadata": {},
   "outputs": [
    {
     "data": {
      "text/plain": [
       "<Axes: >"
      ]
     },
     "execution_count": 1016,
     "metadata": {},
     "output_type": "execute_result"
    },
    {
     "data": {
      "image/png": "[encoded data removed]",
      "text/plain": [
       "<Figure size 640x480 with 1 Axes>"
      ]
     },
     "metadata": {},
     "output_type": "display_data"
    }
   ],
   "source": [
    "df.plot(kind='box',x='gender',y='SpO2_saturation')"
   ]
  },
  {
   "cell_type": "code",
   "execution_count": 1017,
   "metadata": {},
   "outputs": [
    {
     "name": "stdout",
     "output_type": "stream",
     "text": [
      "<class 'pandas.core.frame.DataFrame'>\n",
      "Index: 1084 entries, 0 to 1084\n",
      "Data columns (total 7 columns):\n",
      " #   Column           Non-Null Count  Dtype  \n",
      "---  ------           --------------  -----  \n",
      " 0   gender           901 non-null    object \n",
      " 1   age              842 non-null    float64\n",
      " 2   heart_rate       1084 non-null   int64  \n",
      " 3   temperature      1084 non-null   float64\n",
      " 4   SpO2_saturation  1084 non-null   float64\n",
      " 5   bpm              1084 non-null   int64  \n",
      " 6   Health_status    1084 non-null   object \n",
      "dtypes: float64(3), int64(2), object(2)\n",
      "memory usage: 67.8+ KB\n"
     ]
    }
   ],
   "source": [
    "df = df[df['SpO2_saturation']<200]\n",
    "df['SpO2_saturation'].max()\n",
    "# df = df[df['SpO2_saturation']<175]\n",
    "df.info()"
   ]
  },
  {
   "cell_type": "code",
   "execution_count": 1018,
   "metadata": {},
   "outputs": [
    {
     "data": {
      "text/plain": [
       "<Axes: >"
      ]
     },
     "execution_count": 1018,
     "metadata": {},
     "output_type": "execute_result"
    },
    {
     "data": {
      "image/png": "[encoded data removed]",
      "text/plain": [
       "<Figure size 640x480 with 1 Axes>"
      ]
     },
     "metadata": {},
     "output_type": "display_data"
    }
   ],
   "source": [
    "df.plot(kind='box',x='gender',y='SpO2_saturation')"
   ]
  },
  {
   "cell_type": "code",
   "execution_count": 1019,
   "metadata": {},
   "outputs": [
    {
     "data": {
      "text/plain": [
       "count    1084.000000\n",
       "mean       66.455351\n",
       "std        29.102299\n",
       "min        20.000000\n",
       "25%        30.000000\n",
       "50%        82.000000\n",
       "75%        87.300000\n",
       "max       175.000000\n",
       "Name: SpO2_saturation, dtype: float64"
      ]
     },
     "execution_count": 1019,
     "metadata": {},
     "output_type": "execute_result"
    }
   ],
   "source": [
    "df['SpO2_saturation'].describe()"
   ]
  },
  {
   "cell_type": "code",
   "execution_count": 1020,
   "metadata": {},
   "outputs": [
    {
     "name": "stdout",
     "output_type": "stream",
     "text": [
      "<class 'pandas.core.frame.DataFrame'>\n",
      "Index: 1076 entries, 0 to 1084\n",
      "Data columns (total 7 columns):\n",
      " #   Column           Non-Null Count  Dtype  \n",
      "---  ------           --------------  -----  \n",
      " 0   gender           895 non-null    object \n",
      " 1   age              837 non-null    float64\n",
      " 2   heart_rate       1076 non-null   int64  \n",
      " 3   temperature      1076 non-null   float64\n",
      " 4   SpO2_saturation  1076 non-null   float64\n",
      " 5   bpm              1076 non-null   int64  \n",
      " 6   Health_status    1076 non-null   object \n",
      "dtypes: float64(3), int64(2), object(2)\n",
      "memory usage: 67.2+ KB\n"
     ]
    }
   ],
   "source": [
    "# using of 1.5 IQR\n",
    "\n",
    "q3 = df['SpO2_saturation'].quantile(0.75)\n",
    "q1 = df['SpO2_saturation'].quantile(0.25)\n",
    "\n",
    "IQR = q3-q1\n",
    "\n",
    "upper_bound = q3 + 1.5*IQR\n",
    "lower_bound = q1 - 1.5*IQR\n",
    "\n",
    "df = df[(df['SpO2_saturation']>=lower_bound) & (df['SpO2_saturation']<=upper_bound)]\n",
    "df.info()"
   ]
  },
  {
   "cell_type": "code",
   "execution_count": 1021,
   "metadata": {},
   "outputs": [
    {
     "data": {
      "text/plain": [
       "<Axes: >"
      ]
     },
     "execution_count": 1021,
     "metadata": {},
     "output_type": "execute_result"
    },
    {
     "data": {
      "image/png": "[encoded data removed]",
      "text/plain": [
       "<Figure size 640x480 with 1 Axes>"
      ]
     },
     "metadata": {},
     "output_type": "display_data"
    }
   ],
   "source": [
    "df.plot(kind='box',x='gender',y='SpO2_saturation')"
   ]
  },
  {
   "cell_type": "code",
   "execution_count": 1022,
   "metadata": {},
   "outputs": [
    {
     "data": {
      "text/plain": [
       "<Axes: >"
      ]
     },
     "execution_count": 1022,
     "metadata": {},
     "output_type": "execute_result"
    },
    {
     "data": {
      "image/png": "[encoded data removed]",
      "text/plain": [
       "<Figure size 640x480 with 1 Axes>"
      ]
     },
     "metadata": {},
     "output_type": "display_data"
    }
   ],
   "source": [
    "df['age'].plot(kind='box')"
   ]
  },
  {
   "cell_type": "code",
   "execution_count": 1023,
   "metadata": {},
   "outputs": [
    {
     "data": {
      "text/plain": [
       "<Axes: ylabel='Frequency'>"
      ]
     },
     "execution_count": 1023,
     "metadata": {},
     "output_type": "execute_result"
    },
    {
     "data": {
      "image/png": "[encoded data removed]",
      "text/plain": [
       "<Figure size 640x480 with 1 Axes>"
      ]
     },
     "metadata": {},
     "output_type": "display_data"
    }
   ],
   "source": [
    "df['age'].plot(kind='hist')"
   ]
  },
  {
   "cell_type": "code",
   "execution_count": 1024,
   "metadata": {},
   "outputs": [
    {
     "name": "stdout",
     "output_type": "stream",
     "text": [
      "<class 'pandas.core.frame.DataFrame'>\n",
      "Index: 1076 entries, 0 to 1084\n",
      "Data columns (total 7 columns):\n",
      " #   Column           Non-Null Count  Dtype  \n",
      "---  ------           --------------  -----  \n",
      " 0   gender           895 non-null    object \n",
      " 1   age              837 non-null    float64\n",
      " 2   heart_rate       1076 non-null   int64  \n",
      " 3   temperature      1076 non-null   float64\n",
      " 4   SpO2_saturation  1076 non-null   float64\n",
      " 5   bpm              1076 non-null   int64  \n",
      " 6   Health_status    1076 non-null   object \n",
      "dtypes: float64(3), int64(2), object(2)\n",
      "memory usage: 67.2+ KB\n"
     ]
    }
   ],
   "source": [
    "df.info()"
   ]
  },
  {
   "cell_type": "code",
   "execution_count": 1025,
   "metadata": {},
   "outputs": [
    {
     "name": "stdout",
     "output_type": "stream",
     "text": [
      "49.508661887694146\n",
      "51.0\n"
     ]
    }
   ],
   "source": [
    "print(df['age'].mean())\n",
    "print(df['age'].median())"
   ]
  },
  {
   "cell_type": "code",
   "execution_count": 1026,
   "metadata": {},
   "outputs": [
    {
     "name": "stderr",
     "output_type": "stream",
     "text": [
      "C:\\Users\\PAWAN\\AppData\\Local\\Temp\\ipykernel_16812\\206247837.py:1: SettingWithCopyWarning: \n",
      "A value is trying to be set on a copy of a slice from a DataFrame.\n",
      "Try using .loc[row_indexer,col_indexer] = value instead\n",
      "\n",
      "See the caveats in the documentation: https://pandas.pydata.org/pandas-docs/stable/user_guide/indexing.html#returning-a-view-versus-a-copy\n",
      "  df['age']=df['age'].fillna(df['age'].median())\n"
     ]
    }
   ],
   "source": [
    "df['age']=df['age'].fillna(df['age'].median())"
   ]
  },
  {
   "cell_type": "code",
   "execution_count": 1027,
   "metadata": {},
   "outputs": [
    {
     "name": "stdout",
     "output_type": "stream",
     "text": [
      "<class 'pandas.core.frame.DataFrame'>\n",
      "Index: 1076 entries, 0 to 1084\n",
      "Data columns (total 7 columns):\n",
      " #   Column           Non-Null Count  Dtype  \n",
      "---  ------           --------------  -----  \n",
      " 0   gender           895 non-null    object \n",
      " 1   age              1076 non-null   float64\n",
      " 2   heart_rate       1076 non-null   int64  \n",
      " 3   temperature      1076 non-null   float64\n",
      " 4   SpO2_saturation  1076 non-null   float64\n",
      " 5   bpm              1076 non-null   int64  \n",
      " 6   Health_status    1076 non-null   object \n",
      "dtypes: float64(3), int64(2), object(2)\n",
      "memory usage: 67.2+ KB\n"
     ]
    }
   ],
   "source": [
    "df.info()"
   ]
  },
  {
   "cell_type": "code",
   "execution_count": 1028,
   "metadata": {},
   "outputs": [],
   "source": [
    "df = df.dropna()"
   ]
  },
  {
   "cell_type": "code",
   "execution_count": 1029,
   "metadata": {},
   "outputs": [
    {
     "name": "stdout",
     "output_type": "stream",
     "text": [
      "<class 'pandas.core.frame.DataFrame'>\n",
      "Index: 895 entries, 0 to 1084\n",
      "Data columns (total 7 columns):\n",
      " #   Column           Non-Null Count  Dtype  \n",
      "---  ------           --------------  -----  \n",
      " 0   gender           895 non-null    object \n",
      " 1   age              895 non-null    float64\n",
      " 2   heart_rate       895 non-null    int64  \n",
      " 3   temperature      895 non-null    float64\n",
      " 4   SpO2_saturation  895 non-null    float64\n",
      " 5   bpm              895 non-null    int64  \n",
      " 6   Health_status    895 non-null    object \n",
      "dtypes: float64(3), int64(2), object(2)\n",
      "memory usage: 55.9+ KB\n"
     ]
    }
   ],
   "source": [
    "df.info()"
   ]
  },
  {
   "cell_type": "code",
   "execution_count": 1030,
   "metadata": {},
   "outputs": [
    {
     "data": {
      "text/plain": [
       "<Axes: xlabel='Health_status'>"
      ]
     },
     "execution_count": 1030,
     "metadata": {},
     "output_type": "execute_result"
    },
    {
     "data": {
      "image/png": "[encoded data removed]",
      "text/plain": [
       "<Figure size 640x480 with 1 Axes>"
      ]
     },
     "metadata": {},
     "output_type": "display_data"
    }
   ],
   "source": [
    "df['Health_status'].value_counts().plot(kind='bar')"
   ]
  },
  {
   "cell_type": "code",
   "execution_count": 1031,
   "metadata": {},
   "outputs": [
    {
     "data": {
      "text/plain": [
       "Health_status\n",
       "Infected         783\n",
       "Non Infected     102\n",
       "Non infected       9\n",
       "Non infected       1\n",
       "Name: count, dtype: int64"
      ]
     },
     "execution_count": 1031,
     "metadata": {},
     "output_type": "execute_result"
    }
   ],
   "source": [
    "df['Health_status'].value_counts()"
   ]
  },
  {
   "cell_type": "code",
   "execution_count": 1032,
   "metadata": {},
   "outputs": [
    {
     "name": "stderr",
     "output_type": "stream",
     "text": [
      "C:\\Users\\PAWAN\\AppData\\Local\\Temp\\ipykernel_16812\\682484061.py:1: SettingWithCopyWarning: \n",
      "A value is trying to be set on a copy of a slice from a DataFrame.\n",
      "Try using .loc[row_indexer,col_indexer] = value instead\n",
      "\n",
      "See the caveats in the documentation: https://pandas.pydata.org/pandas-docs/stable/user_guide/indexing.html#returning-a-view-versus-a-copy\n",
      "  df['Health_status']=df['Health_status'].str.rstrip()\n"
     ]
    }
   ],
   "source": [
    "df['Health_status']=df['Health_status'].str.rstrip()"
   ]
  },
  {
   "cell_type": "code",
   "execution_count": 1033,
   "metadata": {},
   "outputs": [
    {
     "data": {
      "text/plain": [
       "Health_status\n",
       "Infected        783\n",
       "Non Infected    102\n",
       "Non infected     10\n",
       "Name: count, dtype: int64"
      ]
     },
     "execution_count": 1033,
     "metadata": {},
     "output_type": "execute_result"
    }
   ],
   "source": [
    "df['Health_status'].value_counts()"
   ]
  },
  {
   "cell_type": "code",
   "execution_count": 1034,
   "metadata": {},
   "outputs": [
    {
     "data": {
      "text/plain": [
       "array(['Infected', 'Non Infected', 'Non infected'], dtype=object)"
      ]
     },
     "execution_count": 1034,
     "metadata": {},
     "output_type": "execute_result"
    }
   ],
   "source": [
    "df['Health_status'].unique()"
   ]
  },
  {
   "cell_type": "code",
   "execution_count": 1035,
   "metadata": {},
   "outputs": [
    {
     "name": "stderr",
     "output_type": "stream",
     "text": [
      "C:\\Users\\PAWAN\\AppData\\Local\\Temp\\ipykernel_16812\\355268152.py:1: SettingWithCopyWarning: \n",
      "A value is trying to be set on a copy of a slice from a DataFrame.\n",
      "Try using .loc[row_indexer,col_indexer] = value instead\n",
      "\n",
      "See the caveats in the documentation: https://pandas.pydata.org/pandas-docs/stable/user_guide/indexing.html#returning-a-view-versus-a-copy\n",
      "  df['Health_status'] = df['Health_status'].str.lower()\n"
     ]
    }
   ],
   "source": [
    "df['Health_status'] = df['Health_status'].str.lower()"
   ]
  },
  {
   "cell_type": "code",
   "execution_count": 1036,
   "metadata": {},
   "outputs": [
    {
     "data": {
      "text/plain": [
       "array(['infected', 'non infected'], dtype=object)"
      ]
     },
     "execution_count": 1036,
     "metadata": {},
     "output_type": "execute_result"
    }
   ],
   "source": [
    "df['Health_status'].unique()"
   ]
  },
  {
   "cell_type": "code",
   "execution_count": 1037,
   "metadata": {},
   "outputs": [
    {
     "data": {
      "text/plain": [
       "<Axes: xlabel='heart_rate', ylabel='temperature'>"
      ]
     },
     "execution_count": 1037,
     "metadata": {},
     "output_type": "execute_result"
    },
    {
     "data": {
      "image/png": "[encoded data removed]",
      "text/plain": [
       "<Figure size 640x480 with 1 Axes>"
      ]
     },
     "metadata": {},
     "output_type": "display_data"
    }
   ],
   "source": [
    "df.plot(kind='scatter',x='heart_rate',y='temperature')"
   ]
  },
  {
   "cell_type": "code",
   "execution_count": 1038,
   "metadata": {},
   "outputs": [
    {
     "data": {
      "text/plain": [
       "<Axes: xlabel='heart_rate', ylabel='SpO2_saturation'>"
      ]
     },
     "execution_count": 1038,
     "metadata": {},
     "output_type": "execute_result"
    },
    {
     "data": {
      "image/png": "[encoded data removed]",
      "text/plain": [
       "<Figure size 640x480 with 1 Axes>"
      ]
     },
     "metadata": {},
     "output_type": "display_data"
    }
   ],
   "source": [
    "df.plot(kind='scatter',x='heart_rate',y='SpO2_saturation')"
   ]
  },
  {
   "cell_type": "code",
   "execution_count": 1039,
   "metadata": {},
   "outputs": [
    {
     "data": {
      "text/plain": [
       "<Axes: xlabel='heart_rate', ylabel='bpm'>"
      ]
     },
     "execution_count": 1039,
     "metadata": {},
     "output_type": "execute_result"
    },
    {
     "data": {
      "image/png": "[encoded data removed]",
      "text/plain": [
       "<Figure size 640x480 with 1 Axes>"
      ]
     },
     "metadata": {},
     "output_type": "display_data"
    }
   ],
   "source": [
    "df.plot(kind='scatter',x='heart_rate',y='bpm')"
   ]
  },
  {
   "cell_type": "code",
   "execution_count": 1042,
   "metadata": {},
   "outputs": [
    {
     "data": {
      "text/plain": [
       "<Axes: xlabel='bpm', ylabel='SpO2_saturation'>"
      ]
     },
     "execution_count": 1042,
     "metadata": {},
     "output_type": "execute_result"
    },
    {
     "data": {
      "image/png": "[encoded data removed]",
      "text/plain": [
       "<Figure size 640x480 with 1 Axes>"
      ]
     },
     "metadata": {},
     "output_type": "display_data"
    }
   ],
   "source": [
    "df.plot(kind='scatter',x='bpm',y='SpO2_saturation')"
   ]
  },
  {
   "cell_type": "code",
   "execution_count": 1043,
   "metadata": {},
   "outputs": [],
   "source": [
    "df.to_csv(\"dataset/health_processed_data.csv\",sep=',', index=False, encoding='utf-8')"
   ]
  }
 ],
 "metadata": {
  "kernelspec": {
   "display_name": "Python 3",
   "language": "python",
   "name": "python3"
  },
  "language_info": {
   "codemirror_mode": {
    "name": "ipython",
    "version": 3
   },
   "file_extension": ".py",
   "mimetype": "text/x-python",
   "name": "python",
   "nbconvert_exporter": "python",
   "pygments_lexer": "ipython3",
   "version": "3.11.4"
  },
  "orig_nbformat": 4
 },
 "nbformat": 4,
 "nbformat_minor": 2
}
